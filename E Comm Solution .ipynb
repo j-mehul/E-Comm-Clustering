{
 "cells": [
  {
   "cell_type": "markdown",
   "metadata": {},
   "source": [
    "### Dataset: https://www.kaggle.com/olistbr/brazilian-ecommerce/home"
   ]
  },
  {
   "cell_type": "markdown",
   "metadata": {},
   "source": [
    "## Libraries "
   ]
  },
  {
   "cell_type": "code",
   "execution_count": 1,
   "metadata": {},
   "outputs": [],
   "source": [
    "import pandas as pd\n",
    "import matplotlib.pyplot as plt\n",
    "import numpy as np\n",
    "import seaborn as sns\n",
    "from sklearn.cluster import KMeans\n",
    "from sklearn import preprocessing\n",
    "from sklearn.linear_model import LassoCV"
   ]
  },
  {
   "cell_type": "markdown",
   "metadata": {},
   "source": [
    "## Data Prepration"
   ]
  },
  {
   "cell_type": "code",
   "execution_count": 2,
   "metadata": {},
   "outputs": [],
   "source": [
    "order_dataset=pd.read_csv('orders_dataset.csv',parse_dates=['order_purchase_timestamp','order_approved_at',\n",
    "                                                            'order_delivered_customer_date','order_estimated_delivery_date'])"
   ]
  },
  {
   "cell_type": "code",
   "execution_count": 3,
   "metadata": {},
   "outputs": [
    {
     "data": {
      "text/html": [
       "<div>\n",
       "<style scoped>\n",
       "    .dataframe tbody tr th:only-of-type {\n",
       "        vertical-align: middle;\n",
       "    }\n",
       "\n",
       "    .dataframe tbody tr th {\n",
       "        vertical-align: top;\n",
       "    }\n",
       "\n",
       "    .dataframe thead th {\n",
       "        text-align: right;\n",
       "    }\n",
       "</style>\n",
       "<table border=\"1\" class=\"dataframe\">\n",
       "  <thead>\n",
       "    <tr style=\"text-align: right;\">\n",
       "      <th></th>\n",
       "      <th>order_id</th>\n",
       "      <th>customer_id</th>\n",
       "      <th>order_status</th>\n",
       "      <th>order_purchase_timestamp</th>\n",
       "      <th>order_approved_at</th>\n",
       "      <th>order_delivered_carrier_date</th>\n",
       "      <th>order_delivered_customer_date</th>\n",
       "      <th>order_estimated_delivery_date</th>\n",
       "    </tr>\n",
       "  </thead>\n",
       "  <tbody>\n",
       "    <tr>\n",
       "      <th>0</th>\n",
       "      <td>e481f51cbdc54678b7cc49136f2d6af7</td>\n",
       "      <td>9ef432eb6251297304e76186b10a928d</td>\n",
       "      <td>delivered</td>\n",
       "      <td>2017-10-02 10:56:33</td>\n",
       "      <td>2017-10-02 11:07:15</td>\n",
       "      <td>2017-10-04 19:55:00</td>\n",
       "      <td>2017-10-10 21:25:13</td>\n",
       "      <td>2017-10-18</td>\n",
       "    </tr>\n",
       "    <tr>\n",
       "      <th>1</th>\n",
       "      <td>53cdb2fc8bc7dce0b6741e2150273451</td>\n",
       "      <td>b0830fb4747a6c6d20dea0b8c802d7ef</td>\n",
       "      <td>delivered</td>\n",
       "      <td>2018-07-24 20:41:37</td>\n",
       "      <td>2018-07-26 03:24:27</td>\n",
       "      <td>2018-07-26 14:31:00</td>\n",
       "      <td>2018-08-07 15:27:45</td>\n",
       "      <td>2018-08-13</td>\n",
       "    </tr>\n",
       "    <tr>\n",
       "      <th>2</th>\n",
       "      <td>47770eb9100c2d0c44946d9cf07ec65d</td>\n",
       "      <td>41ce2a54c0b03bf3443c3d931a367089</td>\n",
       "      <td>delivered</td>\n",
       "      <td>2018-08-08 08:38:49</td>\n",
       "      <td>2018-08-08 08:55:23</td>\n",
       "      <td>2018-08-08 13:50:00</td>\n",
       "      <td>2018-08-17 18:06:29</td>\n",
       "      <td>2018-09-04</td>\n",
       "    </tr>\n",
       "    <tr>\n",
       "      <th>3</th>\n",
       "      <td>949d5b44dbf5de918fe9c16f97b45f8a</td>\n",
       "      <td>f88197465ea7920adcdbec7375364d82</td>\n",
       "      <td>delivered</td>\n",
       "      <td>2017-11-18 19:28:06</td>\n",
       "      <td>2017-11-18 19:45:59</td>\n",
       "      <td>2017-11-22 13:39:59</td>\n",
       "      <td>2017-12-02 00:28:42</td>\n",
       "      <td>2017-12-15</td>\n",
       "    </tr>\n",
       "    <tr>\n",
       "      <th>4</th>\n",
       "      <td>ad21c59c0840e6cb83a9ceb5573f8159</td>\n",
       "      <td>8ab97904e6daea8866dbdbc4fb7aad2c</td>\n",
       "      <td>delivered</td>\n",
       "      <td>2018-02-13 21:18:39</td>\n",
       "      <td>2018-02-13 22:20:29</td>\n",
       "      <td>2018-02-14 19:46:34</td>\n",
       "      <td>2018-02-16 18:17:02</td>\n",
       "      <td>2018-02-26</td>\n",
       "    </tr>\n",
       "  </tbody>\n",
       "</table>\n",
       "</div>"
      ],
      "text/plain": [
       "                           order_id                       customer_id  \\\n",
       "0  e481f51cbdc54678b7cc49136f2d6af7  9ef432eb6251297304e76186b10a928d   \n",
       "1  53cdb2fc8bc7dce0b6741e2150273451  b0830fb4747a6c6d20dea0b8c802d7ef   \n",
       "2  47770eb9100c2d0c44946d9cf07ec65d  41ce2a54c0b03bf3443c3d931a367089   \n",
       "3  949d5b44dbf5de918fe9c16f97b45f8a  f88197465ea7920adcdbec7375364d82   \n",
       "4  ad21c59c0840e6cb83a9ceb5573f8159  8ab97904e6daea8866dbdbc4fb7aad2c   \n",
       "\n",
       "  order_status order_purchase_timestamp   order_approved_at  \\\n",
       "0    delivered      2017-10-02 10:56:33 2017-10-02 11:07:15   \n",
       "1    delivered      2018-07-24 20:41:37 2018-07-26 03:24:27   \n",
       "2    delivered      2018-08-08 08:38:49 2018-08-08 08:55:23   \n",
       "3    delivered      2017-11-18 19:28:06 2017-11-18 19:45:59   \n",
       "4    delivered      2018-02-13 21:18:39 2018-02-13 22:20:29   \n",
       "\n",
       "  order_delivered_carrier_date order_delivered_customer_date  \\\n",
       "0          2017-10-04 19:55:00           2017-10-10 21:25:13   \n",
       "1          2018-07-26 14:31:00           2018-08-07 15:27:45   \n",
       "2          2018-08-08 13:50:00           2018-08-17 18:06:29   \n",
       "3          2017-11-22 13:39:59           2017-12-02 00:28:42   \n",
       "4          2018-02-14 19:46:34           2018-02-16 18:17:02   \n",
       "\n",
       "  order_estimated_delivery_date  \n",
       "0                    2017-10-18  \n",
       "1                    2018-08-13  \n",
       "2                    2018-09-04  \n",
       "3                    2017-12-15  \n",
       "4                    2018-02-26  "
      ]
     },
     "execution_count": 3,
     "metadata": {},
     "output_type": "execute_result"
    }
   ],
   "source": [
    "order_dataset.head()"
   ]
  },
  {
   "cell_type": "code",
   "execution_count": 4,
   "metadata": {},
   "outputs": [
    {
     "data": {
      "text/plain": [
       "(99441, 8)"
      ]
     },
     "execution_count": 4,
     "metadata": {},
     "output_type": "execute_result"
    }
   ],
   "source": [
    "order_dataset.shape"
   ]
  },
  {
   "cell_type": "code",
   "execution_count": 5,
   "metadata": {},
   "outputs": [
    {
     "data": {
      "text/plain": [
       "99441"
      ]
     },
     "execution_count": 5,
     "metadata": {},
     "output_type": "execute_result"
    }
   ],
   "source": [
    "order_dataset['order_id'].nunique()"
   ]
  },
  {
   "cell_type": "code",
   "execution_count": 6,
   "metadata": {},
   "outputs": [],
   "source": [
    "order_items=pd.read_csv('order_items.csv',parse_dates=['shipping_limit_date'])"
   ]
  },
  {
   "cell_type": "code",
   "execution_count": 7,
   "metadata": {},
   "outputs": [
    {
     "data": {
      "text/html": [
       "<div>\n",
       "<style scoped>\n",
       "    .dataframe tbody tr th:only-of-type {\n",
       "        vertical-align: middle;\n",
       "    }\n",
       "\n",
       "    .dataframe tbody tr th {\n",
       "        vertical-align: top;\n",
       "    }\n",
       "\n",
       "    .dataframe thead th {\n",
       "        text-align: right;\n",
       "    }\n",
       "</style>\n",
       "<table border=\"1\" class=\"dataframe\">\n",
       "  <thead>\n",
       "    <tr style=\"text-align: right;\">\n",
       "      <th></th>\n",
       "      <th>order_id</th>\n",
       "      <th>order_item_id</th>\n",
       "      <th>product_id</th>\n",
       "      <th>seller_id</th>\n",
       "      <th>shipping_limit_date</th>\n",
       "      <th>price</th>\n",
       "      <th>freight_value</th>\n",
       "    </tr>\n",
       "  </thead>\n",
       "  <tbody>\n",
       "    <tr>\n",
       "      <th>0</th>\n",
       "      <td>00010242fe8c5a6d1ba2dd792cb16214</td>\n",
       "      <td>1</td>\n",
       "      <td>4244733e06e7ecb4970a6e2683c13e61</td>\n",
       "      <td>48436dade18ac8b2bce089ec2a041202</td>\n",
       "      <td>2017-09-19 09:45:35</td>\n",
       "      <td>58.90</td>\n",
       "      <td>13.29</td>\n",
       "    </tr>\n",
       "    <tr>\n",
       "      <th>1</th>\n",
       "      <td>00018f77f2f0320c557190d7a144bdd3</td>\n",
       "      <td>1</td>\n",
       "      <td>e5f2d52b802189ee658865ca93d83a8f</td>\n",
       "      <td>dd7ddc04e1b6c2c614352b383efe2d36</td>\n",
       "      <td>2017-05-03 11:05:13</td>\n",
       "      <td>239.90</td>\n",
       "      <td>19.93</td>\n",
       "    </tr>\n",
       "    <tr>\n",
       "      <th>2</th>\n",
       "      <td>000229ec398224ef6ca0657da4fc703e</td>\n",
       "      <td>1</td>\n",
       "      <td>c777355d18b72b67abbeef9df44fd0fd</td>\n",
       "      <td>5b51032eddd242adc84c38acab88f23d</td>\n",
       "      <td>2018-01-18 14:48:30</td>\n",
       "      <td>199.00</td>\n",
       "      <td>17.87</td>\n",
       "    </tr>\n",
       "    <tr>\n",
       "      <th>3</th>\n",
       "      <td>00024acbcdf0a6daa1e931b038114c75</td>\n",
       "      <td>1</td>\n",
       "      <td>7634da152a4610f1595efa32f14722fc</td>\n",
       "      <td>9d7a1d34a5052409006425275ba1c2b4</td>\n",
       "      <td>2018-08-15 10:10:18</td>\n",
       "      <td>12.99</td>\n",
       "      <td>12.79</td>\n",
       "    </tr>\n",
       "    <tr>\n",
       "      <th>4</th>\n",
       "      <td>00042b26cf59d7ce69dfabb4e55b4fd9</td>\n",
       "      <td>1</td>\n",
       "      <td>ac6c3623068f30de03045865e4e10089</td>\n",
       "      <td>df560393f3a51e74553ab94004ba5c87</td>\n",
       "      <td>2017-02-13 13:57:51</td>\n",
       "      <td>199.90</td>\n",
       "      <td>18.14</td>\n",
       "    </tr>\n",
       "  </tbody>\n",
       "</table>\n",
       "</div>"
      ],
      "text/plain": [
       "                           order_id  order_item_id  \\\n",
       "0  00010242fe8c5a6d1ba2dd792cb16214              1   \n",
       "1  00018f77f2f0320c557190d7a144bdd3              1   \n",
       "2  000229ec398224ef6ca0657da4fc703e              1   \n",
       "3  00024acbcdf0a6daa1e931b038114c75              1   \n",
       "4  00042b26cf59d7ce69dfabb4e55b4fd9              1   \n",
       "\n",
       "                         product_id                         seller_id  \\\n",
       "0  4244733e06e7ecb4970a6e2683c13e61  48436dade18ac8b2bce089ec2a041202   \n",
       "1  e5f2d52b802189ee658865ca93d83a8f  dd7ddc04e1b6c2c614352b383efe2d36   \n",
       "2  c777355d18b72b67abbeef9df44fd0fd  5b51032eddd242adc84c38acab88f23d   \n",
       "3  7634da152a4610f1595efa32f14722fc  9d7a1d34a5052409006425275ba1c2b4   \n",
       "4  ac6c3623068f30de03045865e4e10089  df560393f3a51e74553ab94004ba5c87   \n",
       "\n",
       "  shipping_limit_date   price  freight_value  \n",
       "0 2017-09-19 09:45:35   58.90          13.29  \n",
       "1 2017-05-03 11:05:13  239.90          19.93  \n",
       "2 2018-01-18 14:48:30  199.00          17.87  \n",
       "3 2018-08-15 10:10:18   12.99          12.79  \n",
       "4 2017-02-13 13:57:51  199.90          18.14  "
      ]
     },
     "execution_count": 7,
     "metadata": {},
     "output_type": "execute_result"
    }
   ],
   "source": [
    "order_items.head()"
   ]
  },
  {
   "cell_type": "code",
   "execution_count": 8,
   "metadata": {},
   "outputs": [
    {
     "data": {
      "text/plain": [
       "(112650, 7)"
      ]
     },
     "execution_count": 8,
     "metadata": {},
     "output_type": "execute_result"
    }
   ],
   "source": [
    "order_items.shape"
   ]
  },
  {
   "cell_type": "code",
   "execution_count": 9,
   "metadata": {},
   "outputs": [
    {
     "data": {
      "text/plain": [
       "98666"
      ]
     },
     "execution_count": 9,
     "metadata": {},
     "output_type": "execute_result"
    }
   ],
   "source": [
    "order_items['order_id'].nunique()"
   ]
  },
  {
   "cell_type": "code",
   "execution_count": 10,
   "metadata": {},
   "outputs": [],
   "source": [
    "order_items['Key']=order_items['order_id'] + '_' +order_items['product_id']"
   ]
  },
  {
   "cell_type": "code",
   "execution_count": 11,
   "metadata": {},
   "outputs": [
    {
     "data": {
      "text/plain": [
       "102425"
      ]
     },
     "execution_count": 11,
     "metadata": {},
     "output_type": "execute_result"
    }
   ],
   "source": [
    "order_items['Key'].nunique()"
   ]
  },
  {
   "cell_type": "code",
   "execution_count": 12,
   "metadata": {
    "scrolled": true
   },
   "outputs": [
    {
     "data": {
      "text/html": [
       "<div>\n",
       "<style scoped>\n",
       "    .dataframe tbody tr th:only-of-type {\n",
       "        vertical-align: middle;\n",
       "    }\n",
       "\n",
       "    .dataframe tbody tr th {\n",
       "        vertical-align: top;\n",
       "    }\n",
       "\n",
       "    .dataframe thead th {\n",
       "        text-align: right;\n",
       "    }\n",
       "</style>\n",
       "<table border=\"1\" class=\"dataframe\">\n",
       "  <thead>\n",
       "    <tr style=\"text-align: right;\">\n",
       "      <th></th>\n",
       "      <th>order_id</th>\n",
       "      <th>order_item_id</th>\n",
       "      <th>product_id</th>\n",
       "      <th>seller_id</th>\n",
       "      <th>shipping_limit_date</th>\n",
       "      <th>price</th>\n",
       "      <th>freight_value</th>\n",
       "      <th>Key</th>\n",
       "    </tr>\n",
       "  </thead>\n",
       "  <tbody>\n",
       "    <tr>\n",
       "      <th>14</th>\n",
       "      <td>0008288aa423d2a3f00fcb17cd7d8719</td>\n",
       "      <td>2</td>\n",
       "      <td>368c6c730842d78016ad823897a372db</td>\n",
       "      <td>1f50f920176fa81dab994f9023523100</td>\n",
       "      <td>2018-02-21 02:55:52</td>\n",
       "      <td>49.90</td>\n",
       "      <td>13.37</td>\n",
       "      <td>0008288aa423d2a3f00fcb17cd7d8719_368c6c730842d...</td>\n",
       "    </tr>\n",
       "    <tr>\n",
       "      <th>33</th>\n",
       "      <td>00143d0f86d6fbd9f9b38ab440ac16f5</td>\n",
       "      <td>2</td>\n",
       "      <td>e95ee6822b66ac6058e2e4aff656071a</td>\n",
       "      <td>a17f621c590ea0fab3d5d883e1630ec6</td>\n",
       "      <td>2017-10-20 16:07:52</td>\n",
       "      <td>21.33</td>\n",
       "      <td>15.10</td>\n",
       "      <td>00143d0f86d6fbd9f9b38ab440ac16f5_e95ee6822b66a...</td>\n",
       "    </tr>\n",
       "    <tr>\n",
       "      <th>34</th>\n",
       "      <td>00143d0f86d6fbd9f9b38ab440ac16f5</td>\n",
       "      <td>3</td>\n",
       "      <td>e95ee6822b66ac6058e2e4aff656071a</td>\n",
       "      <td>a17f621c590ea0fab3d5d883e1630ec6</td>\n",
       "      <td>2017-10-20 16:07:52</td>\n",
       "      <td>21.33</td>\n",
       "      <td>15.10</td>\n",
       "      <td>00143d0f86d6fbd9f9b38ab440ac16f5_e95ee6822b66a...</td>\n",
       "    </tr>\n",
       "    <tr>\n",
       "      <th>43</th>\n",
       "      <td>001ab0a7578dd66cd4b0a71f5b6e1e41</td>\n",
       "      <td>2</td>\n",
       "      <td>0b0172eb0fd18479d29c3bc122c058c2</td>\n",
       "      <td>5656537e588803a555b8eb41f07a944b</td>\n",
       "      <td>2018-01-04 02:33:42</td>\n",
       "      <td>24.89</td>\n",
       "      <td>17.63</td>\n",
       "      <td>001ab0a7578dd66cd4b0a71f5b6e1e41_0b0172eb0fd18...</td>\n",
       "    </tr>\n",
       "    <tr>\n",
       "      <th>44</th>\n",
       "      <td>001ab0a7578dd66cd4b0a71f5b6e1e41</td>\n",
       "      <td>3</td>\n",
       "      <td>0b0172eb0fd18479d29c3bc122c058c2</td>\n",
       "      <td>5656537e588803a555b8eb41f07a944b</td>\n",
       "      <td>2018-01-04 02:33:42</td>\n",
       "      <td>24.89</td>\n",
       "      <td>17.63</td>\n",
       "      <td>001ab0a7578dd66cd4b0a71f5b6e1e41_0b0172eb0fd18...</td>\n",
       "    </tr>\n",
       "    <tr>\n",
       "      <th>49</th>\n",
       "      <td>001d8f0e34a38c37f7dba2a37d4eba8b</td>\n",
       "      <td>2</td>\n",
       "      <td>e67307ff0f15ade43fcb6e670be7a74c</td>\n",
       "      <td>f4aba7c0bca51484c30ab7bdc34bcdd1</td>\n",
       "      <td>2017-05-18 17:35:11</td>\n",
       "      <td>18.99</td>\n",
       "      <td>7.78</td>\n",
       "      <td>001d8f0e34a38c37f7dba2a37d4eba8b_e67307ff0f15a...</td>\n",
       "    </tr>\n",
       "    <tr>\n",
       "      <th>76</th>\n",
       "      <td>002c9def9c9b951b1bec6d50753c9891</td>\n",
       "      <td>2</td>\n",
       "      <td>2d9ff06c8870a518f5f6909774e140fb</td>\n",
       "      <td>00720abe85ba0859807595bbf045a33b</td>\n",
       "      <td>2018-05-21 17:32:03</td>\n",
       "      <td>78.00</td>\n",
       "      <td>8.90</td>\n",
       "      <td>002c9def9c9b951b1bec6d50753c9891_2d9ff06c8870a...</td>\n",
       "    </tr>\n",
       "    <tr>\n",
       "      <th>88</th>\n",
       "      <td>003324c70b19a16798817b2b3640e721</td>\n",
       "      <td>2</td>\n",
       "      <td>2b939dc9b176d7fa21594d588815d4a4</td>\n",
       "      <td>dbc22125167c298ef99da25668e1011f</td>\n",
       "      <td>2017-05-24 19:22:34</td>\n",
       "      <td>102.90</td>\n",
       "      <td>14.45</td>\n",
       "      <td>003324c70b19a16798817b2b3640e721_2b939dc9b176d...</td>\n",
       "    </tr>\n",
       "    <tr>\n",
       "      <th>102</th>\n",
       "      <td>003822434f91204da0a51fe4cf2aba18</td>\n",
       "      <td>2</td>\n",
       "      <td>99e71b776debf2f01a69dce207e3e4f8</td>\n",
       "      <td>c54679b132454625907c773d273d4126</td>\n",
       "      <td>2018-06-21 02:30:28</td>\n",
       "      <td>69.00</td>\n",
       "      <td>18.58</td>\n",
       "      <td>003822434f91204da0a51fe4cf2aba18_99e71b776debf...</td>\n",
       "    </tr>\n",
       "    <tr>\n",
       "      <th>112</th>\n",
       "      <td>003f201cdd39cdd59b6447cff2195456</td>\n",
       "      <td>2</td>\n",
       "      <td>656e0eca68dcecf6a31b8ececfabe3e8</td>\n",
       "      <td>0b90b6df587eb83608a64ea8b390cf07</td>\n",
       "      <td>2018-03-05 17:10:41</td>\n",
       "      <td>85.00</td>\n",
       "      <td>17.03</td>\n",
       "      <td>003f201cdd39cdd59b6447cff2195456_656e0eca68dce...</td>\n",
       "    </tr>\n",
       "    <tr>\n",
       "      <th>136</th>\n",
       "      <td>005059edee63c8c708ba61910793b31b</td>\n",
       "      <td>2</td>\n",
       "      <td>84f456958365164420cfc80fbe4c7fab</td>\n",
       "      <td>4a3ca9315b744ce9f8e9374361493884</td>\n",
       "      <td>2018-02-12 18:30:33</td>\n",
       "      <td>92.00</td>\n",
       "      <td>17.89</td>\n",
       "      <td>005059edee63c8c708ba61910793b31b_84f4569583651...</td>\n",
       "    </tr>\n",
       "    <tr>\n",
       "      <th>138</th>\n",
       "      <td>00526a9d4ebde463baee25f386963ddc</td>\n",
       "      <td>2</td>\n",
       "      <td>0c4a0f8ab44f9acd2d04e7024f9ba362</td>\n",
       "      <td>7210cd29727d674c00741e5e387b3ccd</td>\n",
       "      <td>2018-08-14 22:15:22</td>\n",
       "      <td>33.89</td>\n",
       "      <td>8.40</td>\n",
       "      <td>00526a9d4ebde463baee25f386963ddc_0c4a0f8ab44f9...</td>\n",
       "    </tr>\n",
       "    <tr>\n",
       "      <th>139</th>\n",
       "      <td>00526a9d4ebde463baee25f386963ddc</td>\n",
       "      <td>3</td>\n",
       "      <td>0c4a0f8ab44f9acd2d04e7024f9ba362</td>\n",
       "      <td>7210cd29727d674c00741e5e387b3ccd</td>\n",
       "      <td>2018-08-14 22:15:22</td>\n",
       "      <td>33.89</td>\n",
       "      <td>8.40</td>\n",
       "      <td>00526a9d4ebde463baee25f386963ddc_0c4a0f8ab44f9...</td>\n",
       "    </tr>\n",
       "    <tr>\n",
       "      <th>140</th>\n",
       "      <td>00526a9d4ebde463baee25f386963ddc</td>\n",
       "      <td>4</td>\n",
       "      <td>0c4a0f8ab44f9acd2d04e7024f9ba362</td>\n",
       "      <td>7210cd29727d674c00741e5e387b3ccd</td>\n",
       "      <td>2018-08-14 22:15:22</td>\n",
       "      <td>33.89</td>\n",
       "      <td>8.40</td>\n",
       "      <td>00526a9d4ebde463baee25f386963ddc_0c4a0f8ab44f9...</td>\n",
       "    </tr>\n",
       "    <tr>\n",
       "      <th>144</th>\n",
       "      <td>00571ded73b3c061925584feab0db425</td>\n",
       "      <td>2</td>\n",
       "      <td>8695c431b31927efef5343e675f279e7</td>\n",
       "      <td>fe2032dab1a61af8794248c8196565c9</td>\n",
       "      <td>2017-05-25 21:10:16</td>\n",
       "      <td>179.90</td>\n",
       "      <td>15.01</td>\n",
       "      <td>00571ded73b3c061925584feab0db425_8695c431b3192...</td>\n",
       "    </tr>\n",
       "    <tr>\n",
       "      <th>153</th>\n",
       "      <td>005d9a5423d47281ac463a968b3936fb</td>\n",
       "      <td>3</td>\n",
       "      <td>4c3ae5db49258df0784827bdacf3b396</td>\n",
       "      <td>d98eec89afa3380e14463da2aabaea72</td>\n",
       "      <td>2017-10-24 12:28:16</td>\n",
       "      <td>24.99</td>\n",
       "      <td>13.58</td>\n",
       "      <td>005d9a5423d47281ac463a968b3936fb_4c3ae5db49258...</td>\n",
       "    </tr>\n",
       "    <tr>\n",
       "      <th>167</th>\n",
       "      <td>0068c109948b9a1dfb8530d1978acef3</td>\n",
       "      <td>2</td>\n",
       "      <td>525f8fbde09c9bf777025c3141fbbc6e</td>\n",
       "      <td>8b321bb669392f5163d04c59e235e066</td>\n",
       "      <td>2018-01-30 02:53:04</td>\n",
       "      <td>35.90</td>\n",
       "      <td>15.79</td>\n",
       "      <td>0068c109948b9a1dfb8530d1978acef3_525f8fbde09c9...</td>\n",
       "    </tr>\n",
       "    <tr>\n",
       "      <th>210</th>\n",
       "      <td>008d9bf350ff02ed444b3452cf3f57e0</td>\n",
       "      <td>2</td>\n",
       "      <td>efec0b0b076ce3f164b80145743ebc02</td>\n",
       "      <td>1da3aeb70d7989d1e6d9b0e887f97c23</td>\n",
       "      <td>2018-06-12 09:11:48</td>\n",
       "      <td>9.99</td>\n",
       "      <td>15.23</td>\n",
       "      <td>008d9bf350ff02ed444b3452cf3f57e0_efec0b0b076ce...</td>\n",
       "    </tr>\n",
       "    <tr>\n",
       "      <th>235</th>\n",
       "      <td>009905140e9f8cc35d5be897937381db</td>\n",
       "      <td>2</td>\n",
       "      <td>06edb72f1e0c64b14c5b79353f7abea3</td>\n",
       "      <td>391fc6631aebcf3004804e51b40bcf1e</td>\n",
       "      <td>2018-03-26 12:49:18</td>\n",
       "      <td>39.99</td>\n",
       "      <td>18.23</td>\n",
       "      <td>009905140e9f8cc35d5be897937381db_06edb72f1e0c6...</td>\n",
       "    </tr>\n",
       "    <tr>\n",
       "      <th>253</th>\n",
       "      <td>00a57dfbb049fbaae10763e2cf15f797</td>\n",
       "      <td>2</td>\n",
       "      <td>56cdfe67fbda57c1dcc752f5f361f981</td>\n",
       "      <td>1c68394e931a64f90ea236c5ea590300</td>\n",
       "      <td>2018-07-26 03:25:11</td>\n",
       "      <td>89.90</td>\n",
       "      <td>22.56</td>\n",
       "      <td>00a57dfbb049fbaae10763e2cf15f797_56cdfe67fbda5...</td>\n",
       "    </tr>\n",
       "    <tr>\n",
       "      <th>254</th>\n",
       "      <td>00a57dfbb049fbaae10763e2cf15f797</td>\n",
       "      <td>3</td>\n",
       "      <td>56cdfe67fbda57c1dcc752f5f361f981</td>\n",
       "      <td>1c68394e931a64f90ea236c5ea590300</td>\n",
       "      <td>2018-07-26 03:25:11</td>\n",
       "      <td>89.90</td>\n",
       "      <td>22.56</td>\n",
       "      <td>00a57dfbb049fbaae10763e2cf15f797_56cdfe67fbda5...</td>\n",
       "    </tr>\n",
       "    <tr>\n",
       "      <th>275</th>\n",
       "      <td>00b1861aeb89afa498404c684148a619</td>\n",
       "      <td>2</td>\n",
       "      <td>7e8067e7e5ce7aec0e2cb7c1a456d112</td>\n",
       "      <td>0691148aee60ca47977c187804f935ae</td>\n",
       "      <td>2018-08-14 08:30:14</td>\n",
       "      <td>25.79</td>\n",
       "      <td>23.33</td>\n",
       "      <td>00b1861aeb89afa498404c684148a619_7e8067e7e5ce7...</td>\n",
       "    </tr>\n",
       "    <tr>\n",
       "      <th>288</th>\n",
       "      <td>00b6e66f005a657a6b13eedcacdf9342</td>\n",
       "      <td>2</td>\n",
       "      <td>e7cc48a9daff5436f63d3aad9426f28b</td>\n",
       "      <td>53243585a1d6dc2643021fd1853d8905</td>\n",
       "      <td>2018-08-16 11:04:38</td>\n",
       "      <td>199.00</td>\n",
       "      <td>39.66</td>\n",
       "      <td>00b6e66f005a657a6b13eedcacdf9342_e7cc48a9daff5...</td>\n",
       "    </tr>\n",
       "    <tr>\n",
       "      <th>308</th>\n",
       "      <td>00c00d5b36157595e21108ba1da2828f</td>\n",
       "      <td>2</td>\n",
       "      <td>7933eeb8cf79ae899bfac71c0edb076d</td>\n",
       "      <td>391fc6631aebcf3004804e51b40bcf1e</td>\n",
       "      <td>2017-09-19 03:25:43</td>\n",
       "      <td>139.85</td>\n",
       "      <td>16.61</td>\n",
       "      <td>00c00d5b36157595e21108ba1da2828f_7933eeb8cf79a...</td>\n",
       "    </tr>\n",
       "    <tr>\n",
       "      <th>327</th>\n",
       "      <td>00c9f7d4b0e87781465e562dc109f6aa</td>\n",
       "      <td>2</td>\n",
       "      <td>1a0d662b65b5ef08796501b064c853af</td>\n",
       "      <td>2e0dba2da448400b1c11d7b4b22f32a4</td>\n",
       "      <td>2017-05-26 19:25:17</td>\n",
       "      <td>14.99</td>\n",
       "      <td>15.10</td>\n",
       "      <td>00c9f7d4b0e87781465e562dc109f6aa_1a0d662b65b5e...</td>\n",
       "    </tr>\n",
       "    <tr>\n",
       "      <th>328</th>\n",
       "      <td>00c9f7d4b0e87781465e562dc109f6aa</td>\n",
       "      <td>3</td>\n",
       "      <td>1a0d662b65b5ef08796501b064c853af</td>\n",
       "      <td>2e0dba2da448400b1c11d7b4b22f32a4</td>\n",
       "      <td>2017-05-26 19:25:17</td>\n",
       "      <td>14.99</td>\n",
       "      <td>15.10</td>\n",
       "      <td>00c9f7d4b0e87781465e562dc109f6aa_1a0d662b65b5e...</td>\n",
       "    </tr>\n",
       "    <tr>\n",
       "      <th>329</th>\n",
       "      <td>00c9f7d4b0e87781465e562dc109f6aa</td>\n",
       "      <td>4</td>\n",
       "      <td>1a0d662b65b5ef08796501b064c853af</td>\n",
       "      <td>2e0dba2da448400b1c11d7b4b22f32a4</td>\n",
       "      <td>2017-05-26 19:25:17</td>\n",
       "      <td>14.99</td>\n",
       "      <td>15.10</td>\n",
       "      <td>00c9f7d4b0e87781465e562dc109f6aa_1a0d662b65b5e...</td>\n",
       "    </tr>\n",
       "    <tr>\n",
       "      <th>343</th>\n",
       "      <td>00d1e381c0995f0bdb95909fe7434d0b</td>\n",
       "      <td>2</td>\n",
       "      <td>23227b07fc69250d2fa4be6602011aea</td>\n",
       "      <td>e38db885400cd35c71dfd162f2c1dbcf</td>\n",
       "      <td>2018-03-29 16:10:31</td>\n",
       "      <td>64.90</td>\n",
       "      <td>20.18</td>\n",
       "      <td>00d1e381c0995f0bdb95909fe7434d0b_23227b07fc692...</td>\n",
       "    </tr>\n",
       "    <tr>\n",
       "      <th>348</th>\n",
       "      <td>00d50baf1bc56a3c59de1810a6b84b0d</td>\n",
       "      <td>2</td>\n",
       "      <td>71a7800a633691de8ecdd17463335e2e</td>\n",
       "      <td>f80edd2c5aaa505cc4b0a3b219abf4b8</td>\n",
       "      <td>2017-05-29 22:10:12</td>\n",
       "      <td>59.90</td>\n",
       "      <td>34.22</td>\n",
       "      <td>00d50baf1bc56a3c59de1810a6b84b0d_71a7800a63369...</td>\n",
       "    </tr>\n",
       "    <tr>\n",
       "      <th>355</th>\n",
       "      <td>00d94e8901b75ee0d6ef1f87f947b666</td>\n",
       "      <td>2</td>\n",
       "      <td>a35a9f46dcee0a67c8c7ad8493eb4135</td>\n",
       "      <td>85d9eb9ddc5d00ca9336a2219c97bb13</td>\n",
       "      <td>2017-05-08 14:25:13</td>\n",
       "      <td>27.90</td>\n",
       "      <td>20.80</td>\n",
       "      <td>00d94e8901b75ee0d6ef1f87f947b666_a35a9f46dcee0...</td>\n",
       "    </tr>\n",
       "    <tr>\n",
       "      <th>...</th>\n",
       "      <td>...</td>\n",
       "      <td>...</td>\n",
       "      <td>...</td>\n",
       "      <td>...</td>\n",
       "      <td>...</td>\n",
       "      <td>...</td>\n",
       "      <td>...</td>\n",
       "      <td>...</td>\n",
       "    </tr>\n",
       "    <tr>\n",
       "      <th>112260</th>\n",
       "      <td>ff08bd71c0a7128029fa586e4a8efc0c</td>\n",
       "      <td>2</td>\n",
       "      <td>80a29790293a83b877cb353f5ae338e1</td>\n",
       "      <td>dc8798cbf453b7e0f98745e396cc5616</td>\n",
       "      <td>2017-11-07 16:47:28</td>\n",
       "      <td>49.00</td>\n",
       "      <td>5.37</td>\n",
       "      <td>ff08bd71c0a7128029fa586e4a8efc0c_80a29790293a8...</td>\n",
       "    </tr>\n",
       "    <tr>\n",
       "      <th>112261</th>\n",
       "      <td>ff08bd71c0a7128029fa586e4a8efc0c</td>\n",
       "      <td>3</td>\n",
       "      <td>80a29790293a83b877cb353f5ae338e1</td>\n",
       "      <td>dc8798cbf453b7e0f98745e396cc5616</td>\n",
       "      <td>2017-11-07 16:47:28</td>\n",
       "      <td>49.00</td>\n",
       "      <td>5.37</td>\n",
       "      <td>ff08bd71c0a7128029fa586e4a8efc0c_80a29790293a8...</td>\n",
       "    </tr>\n",
       "    <tr>\n",
       "      <th>112284</th>\n",
       "      <td>ff14a3e36b78f407a4e8402572e4edfe</td>\n",
       "      <td>2</td>\n",
       "      <td>f5cb4f19ca215fb34aef190918d45f46</td>\n",
       "      <td>0d83f8e03188682112cc0d93523705cc</td>\n",
       "      <td>2018-01-25 13:14:45</td>\n",
       "      <td>88.90</td>\n",
       "      <td>16.06</td>\n",
       "      <td>ff14a3e36b78f407a4e8402572e4edfe_f5cb4f19ca215...</td>\n",
       "    </tr>\n",
       "    <tr>\n",
       "      <th>112285</th>\n",
       "      <td>ff14a3e36b78f407a4e8402572e4edfe</td>\n",
       "      <td>3</td>\n",
       "      <td>f5cb4f19ca215fb34aef190918d45f46</td>\n",
       "      <td>0d83f8e03188682112cc0d93523705cc</td>\n",
       "      <td>2018-01-25 13:14:45</td>\n",
       "      <td>88.90</td>\n",
       "      <td>16.06</td>\n",
       "      <td>ff14a3e36b78f407a4e8402572e4edfe_f5cb4f19ca215...</td>\n",
       "    </tr>\n",
       "    <tr>\n",
       "      <th>112286</th>\n",
       "      <td>ff14a3e36b78f407a4e8402572e4edfe</td>\n",
       "      <td>4</td>\n",
       "      <td>f5cb4f19ca215fb34aef190918d45f46</td>\n",
       "      <td>0d83f8e03188682112cc0d93523705cc</td>\n",
       "      <td>2018-01-25 13:14:45</td>\n",
       "      <td>88.90</td>\n",
       "      <td>16.06</td>\n",
       "      <td>ff14a3e36b78f407a4e8402572e4edfe_f5cb4f19ca215...</td>\n",
       "    </tr>\n",
       "    <tr>\n",
       "      <th>112298</th>\n",
       "      <td>ff1f8f328e5a59ac754240b6dd31bcb4</td>\n",
       "      <td>2</td>\n",
       "      <td>e7a6f33d382bca6fa19f52ff13e440bd</td>\n",
       "      <td>4a3ca9315b744ce9f8e9374361493884</td>\n",
       "      <td>2017-08-16 16:25:17</td>\n",
       "      <td>74.00</td>\n",
       "      <td>12.02</td>\n",
       "      <td>ff1f8f328e5a59ac754240b6dd31bcb4_e7a6f33d382bc...</td>\n",
       "    </tr>\n",
       "    <tr>\n",
       "      <th>112299</th>\n",
       "      <td>ff1f8f328e5a59ac754240b6dd31bcb4</td>\n",
       "      <td>3</td>\n",
       "      <td>e7a6f33d382bca6fa19f52ff13e440bd</td>\n",
       "      <td>4a3ca9315b744ce9f8e9374361493884</td>\n",
       "      <td>2017-08-16 16:25:17</td>\n",
       "      <td>74.00</td>\n",
       "      <td>12.02</td>\n",
       "      <td>ff1f8f328e5a59ac754240b6dd31bcb4_e7a6f33d382bc...</td>\n",
       "    </tr>\n",
       "    <tr>\n",
       "      <th>112330</th>\n",
       "      <td>ff2ea5b20dfaf42bcf891f8aea31542b</td>\n",
       "      <td>2</td>\n",
       "      <td>c075b8e131353552218860f1c421e4ef</td>\n",
       "      <td>f80edd2c5aaa505cc4b0a3b219abf4b8</td>\n",
       "      <td>2018-02-08 10:16:08</td>\n",
       "      <td>64.90</td>\n",
       "      <td>11.73</td>\n",
       "      <td>ff2ea5b20dfaf42bcf891f8aea31542b_c075b8e131353...</td>\n",
       "    </tr>\n",
       "    <tr>\n",
       "      <th>112339</th>\n",
       "      <td>ff3555a6834ab7c343f8b67157dfdd07</td>\n",
       "      <td>2</td>\n",
       "      <td>9f1c3e71d56894398a42b050b07f1baa</td>\n",
       "      <td>92eb0f42c21942b6552362b9b114707d</td>\n",
       "      <td>2018-08-21 06:05:47</td>\n",
       "      <td>12.50</td>\n",
       "      <td>7.39</td>\n",
       "      <td>ff3555a6834ab7c343f8b67157dfdd07_9f1c3e71d5689...</td>\n",
       "    </tr>\n",
       "    <tr>\n",
       "      <th>112367</th>\n",
       "      <td>ff4118746eaaed0d632211903070df50</td>\n",
       "      <td>2</td>\n",
       "      <td>372645c7439f9661fbbacfd129aa92ec</td>\n",
       "      <td>da8622b14eb17ae2831f4ac5b9dab84a</td>\n",
       "      <td>2017-07-13 18:23:15</td>\n",
       "      <td>99.90</td>\n",
       "      <td>17.95</td>\n",
       "      <td>ff4118746eaaed0d632211903070df50_372645c7439f9...</td>\n",
       "    </tr>\n",
       "    <tr>\n",
       "      <th>112375</th>\n",
       "      <td>ff4935343715e7a6dae3e550f73a6459</td>\n",
       "      <td>2</td>\n",
       "      <td>013e6676e0e3529e5909ff54370daddf</td>\n",
       "      <td>1c68394e931a64f90ea236c5ea590300</td>\n",
       "      <td>2017-10-25 03:29:16</td>\n",
       "      <td>299.90</td>\n",
       "      <td>16.85</td>\n",
       "      <td>ff4935343715e7a6dae3e550f73a6459_013e6676e0e35...</td>\n",
       "    </tr>\n",
       "    <tr>\n",
       "      <th>112418</th>\n",
       "      <td>ff701a7c869ad21de22a6994237c8a00</td>\n",
       "      <td>2</td>\n",
       "      <td>5ff4076c0f01eeba4f728c9e3fa2653c</td>\n",
       "      <td>3e35a8bb43569389d3cebef0ce820f69</td>\n",
       "      <td>2018-04-18 20:10:33</td>\n",
       "      <td>27.90</td>\n",
       "      <td>14.44</td>\n",
       "      <td>ff701a7c869ad21de22a6994237c8a00_5ff4076c0f01e...</td>\n",
       "    </tr>\n",
       "    <tr>\n",
       "      <th>112475</th>\n",
       "      <td>ff9770f7299db492e5fe01b4a231341b</td>\n",
       "      <td>2</td>\n",
       "      <td>67bd616e1ba0d3d3e8545f3113b0140d</td>\n",
       "      <td>e9779976487b77c6d4ac45f75ec7afe9</td>\n",
       "      <td>2018-03-16 07:50:28</td>\n",
       "      <td>16.49</td>\n",
       "      <td>18.23</td>\n",
       "      <td>ff9770f7299db492e5fe01b4a231341b_67bd616e1ba0d...</td>\n",
       "    </tr>\n",
       "    <tr>\n",
       "      <th>112479</th>\n",
       "      <td>ff98857a36b901baaa0dc19c6fcf65fe</td>\n",
       "      <td>2</td>\n",
       "      <td>f59871b3d9da4c64cbe41ad3dd04dc14</td>\n",
       "      <td>116ccb1a1604bc88e4d234a8c23f33de</td>\n",
       "      <td>2017-11-23 20:31:16</td>\n",
       "      <td>12.70</td>\n",
       "      <td>15.11</td>\n",
       "      <td>ff98857a36b901baaa0dc19c6fcf65fe_f59871b3d9da4...</td>\n",
       "    </tr>\n",
       "    <tr>\n",
       "      <th>112510</th>\n",
       "      <td>ffabb8ed44ae4f83efd9d206904d88f5</td>\n",
       "      <td>2</td>\n",
       "      <td>c6ea63369936552872ae890c82175b4b</td>\n",
       "      <td>37be5a7c751166fbc5f8ccba4119e043</td>\n",
       "      <td>2017-08-16 20:10:16</td>\n",
       "      <td>205.00</td>\n",
       "      <td>26.27</td>\n",
       "      <td>ffabb8ed44ae4f83efd9d206904d88f5_c6ea633699365...</td>\n",
       "    </tr>\n",
       "    <tr>\n",
       "      <th>112519</th>\n",
       "      <td>ffb18bf111fa70edf316eb0390427986</td>\n",
       "      <td>3</td>\n",
       "      <td>599dc392f7a23273471b068d72408224</td>\n",
       "      <td>a08692680c77d30a0b4280da5df01c5a</td>\n",
       "      <td>2017-12-01 13:39:22</td>\n",
       "      <td>235.00</td>\n",
       "      <td>19.30</td>\n",
       "      <td>ffb18bf111fa70edf316eb0390427986_599dc392f7a23...</td>\n",
       "    </tr>\n",
       "    <tr>\n",
       "      <th>112521</th>\n",
       "      <td>ffb2c3a5bb149a2f860e5d057096201f</td>\n",
       "      <td>2</td>\n",
       "      <td>683647534fe73616ae97d91a6ef253f4</td>\n",
       "      <td>49383af7ab774e4e8f3000f49c83dc4b</td>\n",
       "      <td>2018-05-10 20:30:46</td>\n",
       "      <td>55.00</td>\n",
       "      <td>22.97</td>\n",
       "      <td>ffb2c3a5bb149a2f860e5d057096201f_683647534fe73...</td>\n",
       "    </tr>\n",
       "    <tr>\n",
       "      <th>112522</th>\n",
       "      <td>ffb2c3a5bb149a2f860e5d057096201f</td>\n",
       "      <td>3</td>\n",
       "      <td>683647534fe73616ae97d91a6ef253f4</td>\n",
       "      <td>49383af7ab774e4e8f3000f49c83dc4b</td>\n",
       "      <td>2018-05-10 20:30:46</td>\n",
       "      <td>55.00</td>\n",
       "      <td>22.97</td>\n",
       "      <td>ffb2c3a5bb149a2f860e5d057096201f_683647534fe73...</td>\n",
       "    </tr>\n",
       "    <tr>\n",
       "      <th>112523</th>\n",
       "      <td>ffb2c3a5bb149a2f860e5d057096201f</td>\n",
       "      <td>4</td>\n",
       "      <td>683647534fe73616ae97d91a6ef253f4</td>\n",
       "      <td>49383af7ab774e4e8f3000f49c83dc4b</td>\n",
       "      <td>2018-05-10 20:30:46</td>\n",
       "      <td>55.00</td>\n",
       "      <td>22.97</td>\n",
       "      <td>ffb2c3a5bb149a2f860e5d057096201f_683647534fe73...</td>\n",
       "    </tr>\n",
       "    <tr>\n",
       "      <th>112534</th>\n",
       "      <td>ffb9a9cd00c74c11c24aa30b3d78e03b</td>\n",
       "      <td>2</td>\n",
       "      <td>fec565c4e3ad965c73fb1a21bb809257</td>\n",
       "      <td>da8622b14eb17ae2831f4ac5b9dab84a</td>\n",
       "      <td>2017-03-22 17:20:21</td>\n",
       "      <td>89.90</td>\n",
       "      <td>18.34</td>\n",
       "      <td>ffb9a9cd00c74c11c24aa30b3d78e03b_fec565c4e3ad9...</td>\n",
       "    </tr>\n",
       "    <tr>\n",
       "      <th>112575</th>\n",
       "      <td>ffd6f465cab015b452d398ac1f5d978a</td>\n",
       "      <td>2</td>\n",
       "      <td>fdcf45aa23bb8312ecc0027d6e1ef1c4</td>\n",
       "      <td>113e3a788b935f48aad63e1c41dac1bd</td>\n",
       "      <td>2018-05-03 09:30:37</td>\n",
       "      <td>7.84</td>\n",
       "      <td>22.06</td>\n",
       "      <td>ffd6f465cab015b452d398ac1f5d978a_fdcf45aa23bb8...</td>\n",
       "    </tr>\n",
       "    <tr>\n",
       "      <th>112576</th>\n",
       "      <td>ffd6f465cab015b452d398ac1f5d978a</td>\n",
       "      <td>3</td>\n",
       "      <td>fdcf45aa23bb8312ecc0027d6e1ef1c4</td>\n",
       "      <td>113e3a788b935f48aad63e1c41dac1bd</td>\n",
       "      <td>2018-05-03 09:30:37</td>\n",
       "      <td>7.84</td>\n",
       "      <td>22.06</td>\n",
       "      <td>ffd6f465cab015b452d398ac1f5d978a_fdcf45aa23bb8...</td>\n",
       "    </tr>\n",
       "    <tr>\n",
       "      <th>112580</th>\n",
       "      <td>ffd84ab39cd5e873d8dba24342e65c01</td>\n",
       "      <td>2</td>\n",
       "      <td>fcf50ee5ad1f1a48671052487d2b0bff</td>\n",
       "      <td>0be8ff43f22e456b4e0371b2245e4d01</td>\n",
       "      <td>2017-10-11 19:49:17</td>\n",
       "      <td>24.90</td>\n",
       "      <td>7.78</td>\n",
       "      <td>ffd84ab39cd5e873d8dba24342e65c01_fcf50ee5ad1f1...</td>\n",
       "    </tr>\n",
       "    <tr>\n",
       "      <th>112604</th>\n",
       "      <td>ffe4b41e99d39f0b837a239110260530</td>\n",
       "      <td>2</td>\n",
       "      <td>e97df839917a6e93404867b1d0319bfc</td>\n",
       "      <td>42bde9fef835393bb8a8849cb6b7f245</td>\n",
       "      <td>2017-09-07 21:25:40</td>\n",
       "      <td>19.00</td>\n",
       "      <td>15.79</td>\n",
       "      <td>ffe4b41e99d39f0b837a239110260530_e97df839917a6...</td>\n",
       "    </tr>\n",
       "    <tr>\n",
       "      <th>112616</th>\n",
       "      <td>ffecd5a79a0084f6a592288c67e3c298</td>\n",
       "      <td>2</td>\n",
       "      <td>50fd2b788dc166edd20512370dac54df</td>\n",
       "      <td>8b321bb669392f5163d04c59e235e066</td>\n",
       "      <td>2018-03-05 20:15:27</td>\n",
       "      <td>21.90</td>\n",
       "      <td>15.79</td>\n",
       "      <td>ffecd5a79a0084f6a592288c67e3c298_50fd2b788dc16...</td>\n",
       "    </tr>\n",
       "    <tr>\n",
       "      <th>112617</th>\n",
       "      <td>ffecd5a79a0084f6a592288c67e3c298</td>\n",
       "      <td>3</td>\n",
       "      <td>50fd2b788dc166edd20512370dac54df</td>\n",
       "      <td>8b321bb669392f5163d04c59e235e066</td>\n",
       "      <td>2018-03-05 20:15:27</td>\n",
       "      <td>21.90</td>\n",
       "      <td>15.79</td>\n",
       "      <td>ffecd5a79a0084f6a592288c67e3c298_50fd2b788dc16...</td>\n",
       "    </tr>\n",
       "    <tr>\n",
       "      <th>112635</th>\n",
       "      <td>fff8287bbae429a99bb7e8c21d151c41</td>\n",
       "      <td>2</td>\n",
       "      <td>bee2e070c39f3dd2f6883a17a5f0da45</td>\n",
       "      <td>4e922959ae960d389249c378d1c939f5</td>\n",
       "      <td>2018-03-27 12:29:22</td>\n",
       "      <td>180.00</td>\n",
       "      <td>48.14</td>\n",
       "      <td>fff8287bbae429a99bb7e8c21d151c41_bee2e070c39f3...</td>\n",
       "    </tr>\n",
       "    <tr>\n",
       "      <th>112641</th>\n",
       "      <td>fffb9224b6fc7c43ebb0904318b10b5f</td>\n",
       "      <td>2</td>\n",
       "      <td>43423cdffde7fda63d0414ed38c11a73</td>\n",
       "      <td>b1fc4f64df5a0e8b6913ab38803c57a9</td>\n",
       "      <td>2017-11-03 02:55:58</td>\n",
       "      <td>55.00</td>\n",
       "      <td>34.19</td>\n",
       "      <td>fffb9224b6fc7c43ebb0904318b10b5f_43423cdffde7f...</td>\n",
       "    </tr>\n",
       "    <tr>\n",
       "      <th>112642</th>\n",
       "      <td>fffb9224b6fc7c43ebb0904318b10b5f</td>\n",
       "      <td>3</td>\n",
       "      <td>43423cdffde7fda63d0414ed38c11a73</td>\n",
       "      <td>b1fc4f64df5a0e8b6913ab38803c57a9</td>\n",
       "      <td>2017-11-03 02:55:58</td>\n",
       "      <td>55.00</td>\n",
       "      <td>34.19</td>\n",
       "      <td>fffb9224b6fc7c43ebb0904318b10b5f_43423cdffde7f...</td>\n",
       "    </tr>\n",
       "    <tr>\n",
       "      <th>112643</th>\n",
       "      <td>fffb9224b6fc7c43ebb0904318b10b5f</td>\n",
       "      <td>4</td>\n",
       "      <td>43423cdffde7fda63d0414ed38c11a73</td>\n",
       "      <td>b1fc4f64df5a0e8b6913ab38803c57a9</td>\n",
       "      <td>2017-11-03 02:55:58</td>\n",
       "      <td>55.00</td>\n",
       "      <td>34.19</td>\n",
       "      <td>fffb9224b6fc7c43ebb0904318b10b5f_43423cdffde7f...</td>\n",
       "    </tr>\n",
       "  </tbody>\n",
       "</table>\n",
       "<p>10225 rows × 8 columns</p>\n",
       "</div>"
      ],
      "text/plain": [
       "                                order_id  order_item_id  \\\n",
       "14      0008288aa423d2a3f00fcb17cd7d8719              2   \n",
       "33      00143d0f86d6fbd9f9b38ab440ac16f5              2   \n",
       "34      00143d0f86d6fbd9f9b38ab440ac16f5              3   \n",
       "43      001ab0a7578dd66cd4b0a71f5b6e1e41              2   \n",
       "44      001ab0a7578dd66cd4b0a71f5b6e1e41              3   \n",
       "49      001d8f0e34a38c37f7dba2a37d4eba8b              2   \n",
       "76      002c9def9c9b951b1bec6d50753c9891              2   \n",
       "88      003324c70b19a16798817b2b3640e721              2   \n",
       "102     003822434f91204da0a51fe4cf2aba18              2   \n",
       "112     003f201cdd39cdd59b6447cff2195456              2   \n",
       "136     005059edee63c8c708ba61910793b31b              2   \n",
       "138     00526a9d4ebde463baee25f386963ddc              2   \n",
       "139     00526a9d4ebde463baee25f386963ddc              3   \n",
       "140     00526a9d4ebde463baee25f386963ddc              4   \n",
       "144     00571ded73b3c061925584feab0db425              2   \n",
       "153     005d9a5423d47281ac463a968b3936fb              3   \n",
       "167     0068c109948b9a1dfb8530d1978acef3              2   \n",
       "210     008d9bf350ff02ed444b3452cf3f57e0              2   \n",
       "235     009905140e9f8cc35d5be897937381db              2   \n",
       "253     00a57dfbb049fbaae10763e2cf15f797              2   \n",
       "254     00a57dfbb049fbaae10763e2cf15f797              3   \n",
       "275     00b1861aeb89afa498404c684148a619              2   \n",
       "288     00b6e66f005a657a6b13eedcacdf9342              2   \n",
       "308     00c00d5b36157595e21108ba1da2828f              2   \n",
       "327     00c9f7d4b0e87781465e562dc109f6aa              2   \n",
       "328     00c9f7d4b0e87781465e562dc109f6aa              3   \n",
       "329     00c9f7d4b0e87781465e562dc109f6aa              4   \n",
       "343     00d1e381c0995f0bdb95909fe7434d0b              2   \n",
       "348     00d50baf1bc56a3c59de1810a6b84b0d              2   \n",
       "355     00d94e8901b75ee0d6ef1f87f947b666              2   \n",
       "...                                  ...            ...   \n",
       "112260  ff08bd71c0a7128029fa586e4a8efc0c              2   \n",
       "112261  ff08bd71c0a7128029fa586e4a8efc0c              3   \n",
       "112284  ff14a3e36b78f407a4e8402572e4edfe              2   \n",
       "112285  ff14a3e36b78f407a4e8402572e4edfe              3   \n",
       "112286  ff14a3e36b78f407a4e8402572e4edfe              4   \n",
       "112298  ff1f8f328e5a59ac754240b6dd31bcb4              2   \n",
       "112299  ff1f8f328e5a59ac754240b6dd31bcb4              3   \n",
       "112330  ff2ea5b20dfaf42bcf891f8aea31542b              2   \n",
       "112339  ff3555a6834ab7c343f8b67157dfdd07              2   \n",
       "112367  ff4118746eaaed0d632211903070df50              2   \n",
       "112375  ff4935343715e7a6dae3e550f73a6459              2   \n",
       "112418  ff701a7c869ad21de22a6994237c8a00              2   \n",
       "112475  ff9770f7299db492e5fe01b4a231341b              2   \n",
       "112479  ff98857a36b901baaa0dc19c6fcf65fe              2   \n",
       "112510  ffabb8ed44ae4f83efd9d206904d88f5              2   \n",
       "112519  ffb18bf111fa70edf316eb0390427986              3   \n",
       "112521  ffb2c3a5bb149a2f860e5d057096201f              2   \n",
       "112522  ffb2c3a5bb149a2f860e5d057096201f              3   \n",
       "112523  ffb2c3a5bb149a2f860e5d057096201f              4   \n",
       "112534  ffb9a9cd00c74c11c24aa30b3d78e03b              2   \n",
       "112575  ffd6f465cab015b452d398ac1f5d978a              2   \n",
       "112576  ffd6f465cab015b452d398ac1f5d978a              3   \n",
       "112580  ffd84ab39cd5e873d8dba24342e65c01              2   \n",
       "112604  ffe4b41e99d39f0b837a239110260530              2   \n",
       "112616  ffecd5a79a0084f6a592288c67e3c298              2   \n",
       "112617  ffecd5a79a0084f6a592288c67e3c298              3   \n",
       "112635  fff8287bbae429a99bb7e8c21d151c41              2   \n",
       "112641  fffb9224b6fc7c43ebb0904318b10b5f              2   \n",
       "112642  fffb9224b6fc7c43ebb0904318b10b5f              3   \n",
       "112643  fffb9224b6fc7c43ebb0904318b10b5f              4   \n",
       "\n",
       "                              product_id                         seller_id  \\\n",
       "14      368c6c730842d78016ad823897a372db  1f50f920176fa81dab994f9023523100   \n",
       "33      e95ee6822b66ac6058e2e4aff656071a  a17f621c590ea0fab3d5d883e1630ec6   \n",
       "34      e95ee6822b66ac6058e2e4aff656071a  a17f621c590ea0fab3d5d883e1630ec6   \n",
       "43      0b0172eb0fd18479d29c3bc122c058c2  5656537e588803a555b8eb41f07a944b   \n",
       "44      0b0172eb0fd18479d29c3bc122c058c2  5656537e588803a555b8eb41f07a944b   \n",
       "49      e67307ff0f15ade43fcb6e670be7a74c  f4aba7c0bca51484c30ab7bdc34bcdd1   \n",
       "76      2d9ff06c8870a518f5f6909774e140fb  00720abe85ba0859807595bbf045a33b   \n",
       "88      2b939dc9b176d7fa21594d588815d4a4  dbc22125167c298ef99da25668e1011f   \n",
       "102     99e71b776debf2f01a69dce207e3e4f8  c54679b132454625907c773d273d4126   \n",
       "112     656e0eca68dcecf6a31b8ececfabe3e8  0b90b6df587eb83608a64ea8b390cf07   \n",
       "136     84f456958365164420cfc80fbe4c7fab  4a3ca9315b744ce9f8e9374361493884   \n",
       "138     0c4a0f8ab44f9acd2d04e7024f9ba362  7210cd29727d674c00741e5e387b3ccd   \n",
       "139     0c4a0f8ab44f9acd2d04e7024f9ba362  7210cd29727d674c00741e5e387b3ccd   \n",
       "140     0c4a0f8ab44f9acd2d04e7024f9ba362  7210cd29727d674c00741e5e387b3ccd   \n",
       "144     8695c431b31927efef5343e675f279e7  fe2032dab1a61af8794248c8196565c9   \n",
       "153     4c3ae5db49258df0784827bdacf3b396  d98eec89afa3380e14463da2aabaea72   \n",
       "167     525f8fbde09c9bf777025c3141fbbc6e  8b321bb669392f5163d04c59e235e066   \n",
       "210     efec0b0b076ce3f164b80145743ebc02  1da3aeb70d7989d1e6d9b0e887f97c23   \n",
       "235     06edb72f1e0c64b14c5b79353f7abea3  391fc6631aebcf3004804e51b40bcf1e   \n",
       "253     56cdfe67fbda57c1dcc752f5f361f981  1c68394e931a64f90ea236c5ea590300   \n",
       "254     56cdfe67fbda57c1dcc752f5f361f981  1c68394e931a64f90ea236c5ea590300   \n",
       "275     7e8067e7e5ce7aec0e2cb7c1a456d112  0691148aee60ca47977c187804f935ae   \n",
       "288     e7cc48a9daff5436f63d3aad9426f28b  53243585a1d6dc2643021fd1853d8905   \n",
       "308     7933eeb8cf79ae899bfac71c0edb076d  391fc6631aebcf3004804e51b40bcf1e   \n",
       "327     1a0d662b65b5ef08796501b064c853af  2e0dba2da448400b1c11d7b4b22f32a4   \n",
       "328     1a0d662b65b5ef08796501b064c853af  2e0dba2da448400b1c11d7b4b22f32a4   \n",
       "329     1a0d662b65b5ef08796501b064c853af  2e0dba2da448400b1c11d7b4b22f32a4   \n",
       "343     23227b07fc69250d2fa4be6602011aea  e38db885400cd35c71dfd162f2c1dbcf   \n",
       "348     71a7800a633691de8ecdd17463335e2e  f80edd2c5aaa505cc4b0a3b219abf4b8   \n",
       "355     a35a9f46dcee0a67c8c7ad8493eb4135  85d9eb9ddc5d00ca9336a2219c97bb13   \n",
       "...                                  ...                               ...   \n",
       "112260  80a29790293a83b877cb353f5ae338e1  dc8798cbf453b7e0f98745e396cc5616   \n",
       "112261  80a29790293a83b877cb353f5ae338e1  dc8798cbf453b7e0f98745e396cc5616   \n",
       "112284  f5cb4f19ca215fb34aef190918d45f46  0d83f8e03188682112cc0d93523705cc   \n",
       "112285  f5cb4f19ca215fb34aef190918d45f46  0d83f8e03188682112cc0d93523705cc   \n",
       "112286  f5cb4f19ca215fb34aef190918d45f46  0d83f8e03188682112cc0d93523705cc   \n",
       "112298  e7a6f33d382bca6fa19f52ff13e440bd  4a3ca9315b744ce9f8e9374361493884   \n",
       "112299  e7a6f33d382bca6fa19f52ff13e440bd  4a3ca9315b744ce9f8e9374361493884   \n",
       "112330  c075b8e131353552218860f1c421e4ef  f80edd2c5aaa505cc4b0a3b219abf4b8   \n",
       "112339  9f1c3e71d56894398a42b050b07f1baa  92eb0f42c21942b6552362b9b114707d   \n",
       "112367  372645c7439f9661fbbacfd129aa92ec  da8622b14eb17ae2831f4ac5b9dab84a   \n",
       "112375  013e6676e0e3529e5909ff54370daddf  1c68394e931a64f90ea236c5ea590300   \n",
       "112418  5ff4076c0f01eeba4f728c9e3fa2653c  3e35a8bb43569389d3cebef0ce820f69   \n",
       "112475  67bd616e1ba0d3d3e8545f3113b0140d  e9779976487b77c6d4ac45f75ec7afe9   \n",
       "112479  f59871b3d9da4c64cbe41ad3dd04dc14  116ccb1a1604bc88e4d234a8c23f33de   \n",
       "112510  c6ea63369936552872ae890c82175b4b  37be5a7c751166fbc5f8ccba4119e043   \n",
       "112519  599dc392f7a23273471b068d72408224  a08692680c77d30a0b4280da5df01c5a   \n",
       "112521  683647534fe73616ae97d91a6ef253f4  49383af7ab774e4e8f3000f49c83dc4b   \n",
       "112522  683647534fe73616ae97d91a6ef253f4  49383af7ab774e4e8f3000f49c83dc4b   \n",
       "112523  683647534fe73616ae97d91a6ef253f4  49383af7ab774e4e8f3000f49c83dc4b   \n",
       "112534  fec565c4e3ad965c73fb1a21bb809257  da8622b14eb17ae2831f4ac5b9dab84a   \n",
       "112575  fdcf45aa23bb8312ecc0027d6e1ef1c4  113e3a788b935f48aad63e1c41dac1bd   \n",
       "112576  fdcf45aa23bb8312ecc0027d6e1ef1c4  113e3a788b935f48aad63e1c41dac1bd   \n",
       "112580  fcf50ee5ad1f1a48671052487d2b0bff  0be8ff43f22e456b4e0371b2245e4d01   \n",
       "112604  e97df839917a6e93404867b1d0319bfc  42bde9fef835393bb8a8849cb6b7f245   \n",
       "112616  50fd2b788dc166edd20512370dac54df  8b321bb669392f5163d04c59e235e066   \n",
       "112617  50fd2b788dc166edd20512370dac54df  8b321bb669392f5163d04c59e235e066   \n",
       "112635  bee2e070c39f3dd2f6883a17a5f0da45  4e922959ae960d389249c378d1c939f5   \n",
       "112641  43423cdffde7fda63d0414ed38c11a73  b1fc4f64df5a0e8b6913ab38803c57a9   \n",
       "112642  43423cdffde7fda63d0414ed38c11a73  b1fc4f64df5a0e8b6913ab38803c57a9   \n",
       "112643  43423cdffde7fda63d0414ed38c11a73  b1fc4f64df5a0e8b6913ab38803c57a9   \n",
       "\n",
       "       shipping_limit_date   price  freight_value  \\\n",
       "14     2018-02-21 02:55:52   49.90          13.37   \n",
       "33     2017-10-20 16:07:52   21.33          15.10   \n",
       "34     2017-10-20 16:07:52   21.33          15.10   \n",
       "43     2018-01-04 02:33:42   24.89          17.63   \n",
       "44     2018-01-04 02:33:42   24.89          17.63   \n",
       "49     2017-05-18 17:35:11   18.99           7.78   \n",
       "76     2018-05-21 17:32:03   78.00           8.90   \n",
       "88     2017-05-24 19:22:34  102.90          14.45   \n",
       "102    2018-06-21 02:30:28   69.00          18.58   \n",
       "112    2018-03-05 17:10:41   85.00          17.03   \n",
       "136    2018-02-12 18:30:33   92.00          17.89   \n",
       "138    2018-08-14 22:15:22   33.89           8.40   \n",
       "139    2018-08-14 22:15:22   33.89           8.40   \n",
       "140    2018-08-14 22:15:22   33.89           8.40   \n",
       "144    2017-05-25 21:10:16  179.90          15.01   \n",
       "153    2017-10-24 12:28:16   24.99          13.58   \n",
       "167    2018-01-30 02:53:04   35.90          15.79   \n",
       "210    2018-06-12 09:11:48    9.99          15.23   \n",
       "235    2018-03-26 12:49:18   39.99          18.23   \n",
       "253    2018-07-26 03:25:11   89.90          22.56   \n",
       "254    2018-07-26 03:25:11   89.90          22.56   \n",
       "275    2018-08-14 08:30:14   25.79          23.33   \n",
       "288    2018-08-16 11:04:38  199.00          39.66   \n",
       "308    2017-09-19 03:25:43  139.85          16.61   \n",
       "327    2017-05-26 19:25:17   14.99          15.10   \n",
       "328    2017-05-26 19:25:17   14.99          15.10   \n",
       "329    2017-05-26 19:25:17   14.99          15.10   \n",
       "343    2018-03-29 16:10:31   64.90          20.18   \n",
       "348    2017-05-29 22:10:12   59.90          34.22   \n",
       "355    2017-05-08 14:25:13   27.90          20.80   \n",
       "...                    ...     ...            ...   \n",
       "112260 2017-11-07 16:47:28   49.00           5.37   \n",
       "112261 2017-11-07 16:47:28   49.00           5.37   \n",
       "112284 2018-01-25 13:14:45   88.90          16.06   \n",
       "112285 2018-01-25 13:14:45   88.90          16.06   \n",
       "112286 2018-01-25 13:14:45   88.90          16.06   \n",
       "112298 2017-08-16 16:25:17   74.00          12.02   \n",
       "112299 2017-08-16 16:25:17   74.00          12.02   \n",
       "112330 2018-02-08 10:16:08   64.90          11.73   \n",
       "112339 2018-08-21 06:05:47   12.50           7.39   \n",
       "112367 2017-07-13 18:23:15   99.90          17.95   \n",
       "112375 2017-10-25 03:29:16  299.90          16.85   \n",
       "112418 2018-04-18 20:10:33   27.90          14.44   \n",
       "112475 2018-03-16 07:50:28   16.49          18.23   \n",
       "112479 2017-11-23 20:31:16   12.70          15.11   \n",
       "112510 2017-08-16 20:10:16  205.00          26.27   \n",
       "112519 2017-12-01 13:39:22  235.00          19.30   \n",
       "112521 2018-05-10 20:30:46   55.00          22.97   \n",
       "112522 2018-05-10 20:30:46   55.00          22.97   \n",
       "112523 2018-05-10 20:30:46   55.00          22.97   \n",
       "112534 2017-03-22 17:20:21   89.90          18.34   \n",
       "112575 2018-05-03 09:30:37    7.84          22.06   \n",
       "112576 2018-05-03 09:30:37    7.84          22.06   \n",
       "112580 2017-10-11 19:49:17   24.90           7.78   \n",
       "112604 2017-09-07 21:25:40   19.00          15.79   \n",
       "112616 2018-03-05 20:15:27   21.90          15.79   \n",
       "112617 2018-03-05 20:15:27   21.90          15.79   \n",
       "112635 2018-03-27 12:29:22  180.00          48.14   \n",
       "112641 2017-11-03 02:55:58   55.00          34.19   \n",
       "112642 2017-11-03 02:55:58   55.00          34.19   \n",
       "112643 2017-11-03 02:55:58   55.00          34.19   \n",
       "\n",
       "                                                      Key  \n",
       "14      0008288aa423d2a3f00fcb17cd7d8719_368c6c730842d...  \n",
       "33      00143d0f86d6fbd9f9b38ab440ac16f5_e95ee6822b66a...  \n",
       "34      00143d0f86d6fbd9f9b38ab440ac16f5_e95ee6822b66a...  \n",
       "43      001ab0a7578dd66cd4b0a71f5b6e1e41_0b0172eb0fd18...  \n",
       "44      001ab0a7578dd66cd4b0a71f5b6e1e41_0b0172eb0fd18...  \n",
       "49      001d8f0e34a38c37f7dba2a37d4eba8b_e67307ff0f15a...  \n",
       "76      002c9def9c9b951b1bec6d50753c9891_2d9ff06c8870a...  \n",
       "88      003324c70b19a16798817b2b3640e721_2b939dc9b176d...  \n",
       "102     003822434f91204da0a51fe4cf2aba18_99e71b776debf...  \n",
       "112     003f201cdd39cdd59b6447cff2195456_656e0eca68dce...  \n",
       "136     005059edee63c8c708ba61910793b31b_84f4569583651...  \n",
       "138     00526a9d4ebde463baee25f386963ddc_0c4a0f8ab44f9...  \n",
       "139     00526a9d4ebde463baee25f386963ddc_0c4a0f8ab44f9...  \n",
       "140     00526a9d4ebde463baee25f386963ddc_0c4a0f8ab44f9...  \n",
       "144     00571ded73b3c061925584feab0db425_8695c431b3192...  \n",
       "153     005d9a5423d47281ac463a968b3936fb_4c3ae5db49258...  \n",
       "167     0068c109948b9a1dfb8530d1978acef3_525f8fbde09c9...  \n",
       "210     008d9bf350ff02ed444b3452cf3f57e0_efec0b0b076ce...  \n",
       "235     009905140e9f8cc35d5be897937381db_06edb72f1e0c6...  \n",
       "253     00a57dfbb049fbaae10763e2cf15f797_56cdfe67fbda5...  \n",
       "254     00a57dfbb049fbaae10763e2cf15f797_56cdfe67fbda5...  \n",
       "275     00b1861aeb89afa498404c684148a619_7e8067e7e5ce7...  \n",
       "288     00b6e66f005a657a6b13eedcacdf9342_e7cc48a9daff5...  \n",
       "308     00c00d5b36157595e21108ba1da2828f_7933eeb8cf79a...  \n",
       "327     00c9f7d4b0e87781465e562dc109f6aa_1a0d662b65b5e...  \n",
       "328     00c9f7d4b0e87781465e562dc109f6aa_1a0d662b65b5e...  \n",
       "329     00c9f7d4b0e87781465e562dc109f6aa_1a0d662b65b5e...  \n",
       "343     00d1e381c0995f0bdb95909fe7434d0b_23227b07fc692...  \n",
       "348     00d50baf1bc56a3c59de1810a6b84b0d_71a7800a63369...  \n",
       "355     00d94e8901b75ee0d6ef1f87f947b666_a35a9f46dcee0...  \n",
       "...                                                   ...  \n",
       "112260  ff08bd71c0a7128029fa586e4a8efc0c_80a29790293a8...  \n",
       "112261  ff08bd71c0a7128029fa586e4a8efc0c_80a29790293a8...  \n",
       "112284  ff14a3e36b78f407a4e8402572e4edfe_f5cb4f19ca215...  \n",
       "112285  ff14a3e36b78f407a4e8402572e4edfe_f5cb4f19ca215...  \n",
       "112286  ff14a3e36b78f407a4e8402572e4edfe_f5cb4f19ca215...  \n",
       "112298  ff1f8f328e5a59ac754240b6dd31bcb4_e7a6f33d382bc...  \n",
       "112299  ff1f8f328e5a59ac754240b6dd31bcb4_e7a6f33d382bc...  \n",
       "112330  ff2ea5b20dfaf42bcf891f8aea31542b_c075b8e131353...  \n",
       "112339  ff3555a6834ab7c343f8b67157dfdd07_9f1c3e71d5689...  \n",
       "112367  ff4118746eaaed0d632211903070df50_372645c7439f9...  \n",
       "112375  ff4935343715e7a6dae3e550f73a6459_013e6676e0e35...  \n",
       "112418  ff701a7c869ad21de22a6994237c8a00_5ff4076c0f01e...  \n",
       "112475  ff9770f7299db492e5fe01b4a231341b_67bd616e1ba0d...  \n",
       "112479  ff98857a36b901baaa0dc19c6fcf65fe_f59871b3d9da4...  \n",
       "112510  ffabb8ed44ae4f83efd9d206904d88f5_c6ea633699365...  \n",
       "112519  ffb18bf111fa70edf316eb0390427986_599dc392f7a23...  \n",
       "112521  ffb2c3a5bb149a2f860e5d057096201f_683647534fe73...  \n",
       "112522  ffb2c3a5bb149a2f860e5d057096201f_683647534fe73...  \n",
       "112523  ffb2c3a5bb149a2f860e5d057096201f_683647534fe73...  \n",
       "112534  ffb9a9cd00c74c11c24aa30b3d78e03b_fec565c4e3ad9...  \n",
       "112575  ffd6f465cab015b452d398ac1f5d978a_fdcf45aa23bb8...  \n",
       "112576  ffd6f465cab015b452d398ac1f5d978a_fdcf45aa23bb8...  \n",
       "112580  ffd84ab39cd5e873d8dba24342e65c01_fcf50ee5ad1f1...  \n",
       "112604  ffe4b41e99d39f0b837a239110260530_e97df839917a6...  \n",
       "112616  ffecd5a79a0084f6a592288c67e3c298_50fd2b788dc16...  \n",
       "112617  ffecd5a79a0084f6a592288c67e3c298_50fd2b788dc16...  \n",
       "112635  fff8287bbae429a99bb7e8c21d151c41_bee2e070c39f3...  \n",
       "112641  fffb9224b6fc7c43ebb0904318b10b5f_43423cdffde7f...  \n",
       "112642  fffb9224b6fc7c43ebb0904318b10b5f_43423cdffde7f...  \n",
       "112643  fffb9224b6fc7c43ebb0904318b10b5f_43423cdffde7f...  \n",
       "\n",
       "[10225 rows x 8 columns]"
      ]
     },
     "execution_count": 12,
     "metadata": {},
     "output_type": "execute_result"
    }
   ],
   "source": [
    "order_items[order_items['Key'].duplicated()]"
   ]
  },
  {
   "cell_type": "code",
   "execution_count": 13,
   "metadata": {},
   "outputs": [],
   "source": [
    "df1=order_items.groupby(['order_id','product_id','seller_id','shipping_limit_date']).agg({'order_item_id' : 'count', 'price' : 'sum', 'freight_value' : 'mean'}).reset_index()"
   ]
  },
  {
   "cell_type": "code",
   "execution_count": 14,
   "metadata": {},
   "outputs": [
    {
     "data": {
      "text/plain": [
       "(102425, 7)"
      ]
     },
     "execution_count": 14,
     "metadata": {},
     "output_type": "execute_result"
    }
   ],
   "source": [
    "df1.shape"
   ]
  },
  {
   "cell_type": "code",
   "execution_count": 15,
   "metadata": {},
   "outputs": [],
   "source": [
    "df = pd.merge(df1, order_dataset, \n",
    "              left_on ='order_id', right_on = 'order_id', how='left')"
   ]
  },
  {
   "cell_type": "code",
   "execution_count": 16,
   "metadata": {},
   "outputs": [
    {
     "data": {
      "text/plain": [
       "(102425, 14)"
      ]
     },
     "execution_count": 16,
     "metadata": {},
     "output_type": "execute_result"
    }
   ],
   "source": [
    "df.shape"
   ]
  },
  {
   "cell_type": "code",
   "execution_count": 17,
   "metadata": {},
   "outputs": [],
   "source": [
    "sellers_dataset=pd.read_csv('sellers_dataset.csv')"
   ]
  },
  {
   "cell_type": "code",
   "execution_count": 18,
   "metadata": {},
   "outputs": [
    {
     "data": {
      "text/html": [
       "<div>\n",
       "<style scoped>\n",
       "    .dataframe tbody tr th:only-of-type {\n",
       "        vertical-align: middle;\n",
       "    }\n",
       "\n",
       "    .dataframe tbody tr th {\n",
       "        vertical-align: top;\n",
       "    }\n",
       "\n",
       "    .dataframe thead th {\n",
       "        text-align: right;\n",
       "    }\n",
       "</style>\n",
       "<table border=\"1\" class=\"dataframe\">\n",
       "  <thead>\n",
       "    <tr style=\"text-align: right;\">\n",
       "      <th></th>\n",
       "      <th>seller_id</th>\n",
       "      <th>seller_zip_code_prefix</th>\n",
       "      <th>seller_city</th>\n",
       "      <th>seller_state</th>\n",
       "    </tr>\n",
       "  </thead>\n",
       "  <tbody>\n",
       "    <tr>\n",
       "      <th>0</th>\n",
       "      <td>3442f8959a84dea7ee197c632cb2df15</td>\n",
       "      <td>13023</td>\n",
       "      <td>campinas</td>\n",
       "      <td>SP</td>\n",
       "    </tr>\n",
       "    <tr>\n",
       "      <th>1</th>\n",
       "      <td>d1b65fc7debc3361ea86b5f14c68d2e2</td>\n",
       "      <td>13844</td>\n",
       "      <td>mogi guacu</td>\n",
       "      <td>SP</td>\n",
       "    </tr>\n",
       "    <tr>\n",
       "      <th>2</th>\n",
       "      <td>ce3ad9de960102d0677a81f5d0bb7b2d</td>\n",
       "      <td>20031</td>\n",
       "      <td>rio de janeiro</td>\n",
       "      <td>RJ</td>\n",
       "    </tr>\n",
       "    <tr>\n",
       "      <th>3</th>\n",
       "      <td>c0f3eea2e14555b6faeea3dd58c1b1c3</td>\n",
       "      <td>4195</td>\n",
       "      <td>sao paulo</td>\n",
       "      <td>SP</td>\n",
       "    </tr>\n",
       "    <tr>\n",
       "      <th>4</th>\n",
       "      <td>51a04a8a6bdcb23deccc82b0b80742cf</td>\n",
       "      <td>12914</td>\n",
       "      <td>braganca paulista</td>\n",
       "      <td>SP</td>\n",
       "    </tr>\n",
       "  </tbody>\n",
       "</table>\n",
       "</div>"
      ],
      "text/plain": [
       "                          seller_id  seller_zip_code_prefix  \\\n",
       "0  3442f8959a84dea7ee197c632cb2df15                   13023   \n",
       "1  d1b65fc7debc3361ea86b5f14c68d2e2                   13844   \n",
       "2  ce3ad9de960102d0677a81f5d0bb7b2d                   20031   \n",
       "3  c0f3eea2e14555b6faeea3dd58c1b1c3                    4195   \n",
       "4  51a04a8a6bdcb23deccc82b0b80742cf                   12914   \n",
       "\n",
       "         seller_city seller_state  \n",
       "0           campinas           SP  \n",
       "1         mogi guacu           SP  \n",
       "2     rio de janeiro           RJ  \n",
       "3          sao paulo           SP  \n",
       "4  braganca paulista           SP  "
      ]
     },
     "execution_count": 18,
     "metadata": {},
     "output_type": "execute_result"
    }
   ],
   "source": [
    "sellers_dataset.head()"
   ]
  },
  {
   "cell_type": "code",
   "execution_count": 19,
   "metadata": {},
   "outputs": [],
   "source": [
    "df=pd.merge(df, sellers_dataset, left_on='seller_id', right_on='seller_id', how='left')"
   ]
  },
  {
   "cell_type": "code",
   "execution_count": 20,
   "metadata": {},
   "outputs": [],
   "source": [
    "customers=pd.read_csv('customers.csv')"
   ]
  },
  {
   "cell_type": "code",
   "execution_count": 21,
   "metadata": {},
   "outputs": [
    {
     "data": {
      "text/html": [
       "<div>\n",
       "<style scoped>\n",
       "    .dataframe tbody tr th:only-of-type {\n",
       "        vertical-align: middle;\n",
       "    }\n",
       "\n",
       "    .dataframe tbody tr th {\n",
       "        vertical-align: top;\n",
       "    }\n",
       "\n",
       "    .dataframe thead th {\n",
       "        text-align: right;\n",
       "    }\n",
       "</style>\n",
       "<table border=\"1\" class=\"dataframe\">\n",
       "  <thead>\n",
       "    <tr style=\"text-align: right;\">\n",
       "      <th></th>\n",
       "      <th>customer_id</th>\n",
       "      <th>customer_unique_id</th>\n",
       "      <th>customer_zip_code_prefix</th>\n",
       "      <th>customer_city</th>\n",
       "      <th>customer_state</th>\n",
       "    </tr>\n",
       "  </thead>\n",
       "  <tbody>\n",
       "    <tr>\n",
       "      <th>0</th>\n",
       "      <td>06b8999e2fba1a1fbc88172c00ba8bc7</td>\n",
       "      <td>861eff4711a542e4b93843c6dd7febb0</td>\n",
       "      <td>14409</td>\n",
       "      <td>franca</td>\n",
       "      <td>SP</td>\n",
       "    </tr>\n",
       "    <tr>\n",
       "      <th>1</th>\n",
       "      <td>18955e83d337fd6b2def6b18a428ac77</td>\n",
       "      <td>290c77bc529b7ac935b93aa66c333dc3</td>\n",
       "      <td>9790</td>\n",
       "      <td>sao bernardo do campo</td>\n",
       "      <td>SP</td>\n",
       "    </tr>\n",
       "    <tr>\n",
       "      <th>2</th>\n",
       "      <td>4e7b3e00288586ebd08712fdd0374a03</td>\n",
       "      <td>060e732b5b29e8181a18229c7b0b2b5e</td>\n",
       "      <td>1151</td>\n",
       "      <td>sao paulo</td>\n",
       "      <td>SP</td>\n",
       "    </tr>\n",
       "    <tr>\n",
       "      <th>3</th>\n",
       "      <td>b2b6027bc5c5109e529d4dc6358b12c3</td>\n",
       "      <td>259dac757896d24d7702b9acbbff3f3c</td>\n",
       "      <td>8775</td>\n",
       "      <td>mogi das cruzes</td>\n",
       "      <td>SP</td>\n",
       "    </tr>\n",
       "    <tr>\n",
       "      <th>4</th>\n",
       "      <td>4f2d8ab171c80ec8364f7c12e35b23ad</td>\n",
       "      <td>345ecd01c38d18a9036ed96c73b8d066</td>\n",
       "      <td>13056</td>\n",
       "      <td>campinas</td>\n",
       "      <td>SP</td>\n",
       "    </tr>\n",
       "  </tbody>\n",
       "</table>\n",
       "</div>"
      ],
      "text/plain": [
       "                        customer_id                customer_unique_id  \\\n",
       "0  06b8999e2fba1a1fbc88172c00ba8bc7  861eff4711a542e4b93843c6dd7febb0   \n",
       "1  18955e83d337fd6b2def6b18a428ac77  290c77bc529b7ac935b93aa66c333dc3   \n",
       "2  4e7b3e00288586ebd08712fdd0374a03  060e732b5b29e8181a18229c7b0b2b5e   \n",
       "3  b2b6027bc5c5109e529d4dc6358b12c3  259dac757896d24d7702b9acbbff3f3c   \n",
       "4  4f2d8ab171c80ec8364f7c12e35b23ad  345ecd01c38d18a9036ed96c73b8d066   \n",
       "\n",
       "   customer_zip_code_prefix          customer_city customer_state  \n",
       "0                     14409                 franca             SP  \n",
       "1                      9790  sao bernardo do campo             SP  \n",
       "2                      1151              sao paulo             SP  \n",
       "3                      8775        mogi das cruzes             SP  \n",
       "4                     13056               campinas             SP  "
      ]
     },
     "execution_count": 21,
     "metadata": {},
     "output_type": "execute_result"
    }
   ],
   "source": [
    "customers.head()"
   ]
  },
  {
   "cell_type": "code",
   "execution_count": 22,
   "metadata": {},
   "outputs": [],
   "source": [
    "df=pd.merge(df,customers,left_on='customer_id',right_on='customer_id',how='left')"
   ]
  },
  {
   "cell_type": "code",
   "execution_count": 23,
   "metadata": {},
   "outputs": [],
   "source": [
    "products_dataset=pd.read_csv('products_dataset.csv')"
   ]
  },
  {
   "cell_type": "code",
   "execution_count": 24,
   "metadata": {},
   "outputs": [
    {
     "data": {
      "text/html": [
       "<div>\n",
       "<style scoped>\n",
       "    .dataframe tbody tr th:only-of-type {\n",
       "        vertical-align: middle;\n",
       "    }\n",
       "\n",
       "    .dataframe tbody tr th {\n",
       "        vertical-align: top;\n",
       "    }\n",
       "\n",
       "    .dataframe thead th {\n",
       "        text-align: right;\n",
       "    }\n",
       "</style>\n",
       "<table border=\"1\" class=\"dataframe\">\n",
       "  <thead>\n",
       "    <tr style=\"text-align: right;\">\n",
       "      <th></th>\n",
       "      <th>product_id</th>\n",
       "      <th>product_category_name</th>\n",
       "      <th>product_name_lenght</th>\n",
       "      <th>product_description_lenght</th>\n",
       "      <th>product_photos_qty</th>\n",
       "      <th>product_weight_g</th>\n",
       "      <th>product_length_cm</th>\n",
       "      <th>product_height_cm</th>\n",
       "      <th>product_width_cm</th>\n",
       "    </tr>\n",
       "  </thead>\n",
       "  <tbody>\n",
       "    <tr>\n",
       "      <th>0</th>\n",
       "      <td>1e9e8ef04dbcff4541ed26657ea517e5</td>\n",
       "      <td>perfumaria</td>\n",
       "      <td>40.0</td>\n",
       "      <td>287.0</td>\n",
       "      <td>1.0</td>\n",
       "      <td>225.0</td>\n",
       "      <td>16.0</td>\n",
       "      <td>10.0</td>\n",
       "      <td>14.0</td>\n",
       "    </tr>\n",
       "    <tr>\n",
       "      <th>1</th>\n",
       "      <td>3aa071139cb16b67ca9e5dea641aaa2f</td>\n",
       "      <td>artes</td>\n",
       "      <td>44.0</td>\n",
       "      <td>276.0</td>\n",
       "      <td>1.0</td>\n",
       "      <td>1000.0</td>\n",
       "      <td>30.0</td>\n",
       "      <td>18.0</td>\n",
       "      <td>20.0</td>\n",
       "    </tr>\n",
       "    <tr>\n",
       "      <th>2</th>\n",
       "      <td>96bd76ec8810374ed1b65e291975717f</td>\n",
       "      <td>esporte_lazer</td>\n",
       "      <td>46.0</td>\n",
       "      <td>250.0</td>\n",
       "      <td>1.0</td>\n",
       "      <td>154.0</td>\n",
       "      <td>18.0</td>\n",
       "      <td>9.0</td>\n",
       "      <td>15.0</td>\n",
       "    </tr>\n",
       "    <tr>\n",
       "      <th>3</th>\n",
       "      <td>cef67bcfe19066a932b7673e239eb23d</td>\n",
       "      <td>bebes</td>\n",
       "      <td>27.0</td>\n",
       "      <td>261.0</td>\n",
       "      <td>1.0</td>\n",
       "      <td>371.0</td>\n",
       "      <td>26.0</td>\n",
       "      <td>4.0</td>\n",
       "      <td>26.0</td>\n",
       "    </tr>\n",
       "    <tr>\n",
       "      <th>4</th>\n",
       "      <td>9dc1a7de274444849c219cff195d0b71</td>\n",
       "      <td>utilidades_domesticas</td>\n",
       "      <td>37.0</td>\n",
       "      <td>402.0</td>\n",
       "      <td>4.0</td>\n",
       "      <td>625.0</td>\n",
       "      <td>20.0</td>\n",
       "      <td>17.0</td>\n",
       "      <td>13.0</td>\n",
       "    </tr>\n",
       "  </tbody>\n",
       "</table>\n",
       "</div>"
      ],
      "text/plain": [
       "                         product_id  product_category_name  \\\n",
       "0  1e9e8ef04dbcff4541ed26657ea517e5             perfumaria   \n",
       "1  3aa071139cb16b67ca9e5dea641aaa2f                  artes   \n",
       "2  96bd76ec8810374ed1b65e291975717f          esporte_lazer   \n",
       "3  cef67bcfe19066a932b7673e239eb23d                  bebes   \n",
       "4  9dc1a7de274444849c219cff195d0b71  utilidades_domesticas   \n",
       "\n",
       "   product_name_lenght  product_description_lenght  product_photos_qty  \\\n",
       "0                 40.0                       287.0                 1.0   \n",
       "1                 44.0                       276.0                 1.0   \n",
       "2                 46.0                       250.0                 1.0   \n",
       "3                 27.0                       261.0                 1.0   \n",
       "4                 37.0                       402.0                 4.0   \n",
       "\n",
       "   product_weight_g  product_length_cm  product_height_cm  product_width_cm  \n",
       "0             225.0               16.0               10.0              14.0  \n",
       "1            1000.0               30.0               18.0              20.0  \n",
       "2             154.0               18.0                9.0              15.0  \n",
       "3             371.0               26.0                4.0              26.0  \n",
       "4             625.0               20.0               17.0              13.0  "
      ]
     },
     "execution_count": 24,
     "metadata": {},
     "output_type": "execute_result"
    }
   ],
   "source": [
    "products_dataset.head()"
   ]
  },
  {
   "cell_type": "code",
   "execution_count": 25,
   "metadata": {},
   "outputs": [],
   "source": [
    "df=pd.merge(df,products_dataset,left_on='product_id',right_on='product_id',how='left')"
   ]
  },
  {
   "cell_type": "code",
   "execution_count": 26,
   "metadata": {},
   "outputs": [],
   "source": [
    "english=pd.read_csv('product_category_name_translation.csv')"
   ]
  },
  {
   "cell_type": "code",
   "execution_count": 27,
   "metadata": {},
   "outputs": [
    {
     "data": {
      "text/html": [
       "<div>\n",
       "<style scoped>\n",
       "    .dataframe tbody tr th:only-of-type {\n",
       "        vertical-align: middle;\n",
       "    }\n",
       "\n",
       "    .dataframe tbody tr th {\n",
       "        vertical-align: top;\n",
       "    }\n",
       "\n",
       "    .dataframe thead th {\n",
       "        text-align: right;\n",
       "    }\n",
       "</style>\n",
       "<table border=\"1\" class=\"dataframe\">\n",
       "  <thead>\n",
       "    <tr style=\"text-align: right;\">\n",
       "      <th></th>\n",
       "      <th>product_category_name</th>\n",
       "      <th>product_category_name_english</th>\n",
       "    </tr>\n",
       "  </thead>\n",
       "  <tbody>\n",
       "    <tr>\n",
       "      <th>0</th>\n",
       "      <td>beleza_saude</td>\n",
       "      <td>health_beauty</td>\n",
       "    </tr>\n",
       "    <tr>\n",
       "      <th>1</th>\n",
       "      <td>informatica_acessorios</td>\n",
       "      <td>computers_accessories</td>\n",
       "    </tr>\n",
       "    <tr>\n",
       "      <th>2</th>\n",
       "      <td>automotivo</td>\n",
       "      <td>auto</td>\n",
       "    </tr>\n",
       "    <tr>\n",
       "      <th>3</th>\n",
       "      <td>cama_mesa_banho</td>\n",
       "      <td>bed_bath_table</td>\n",
       "    </tr>\n",
       "    <tr>\n",
       "      <th>4</th>\n",
       "      <td>moveis_decoracao</td>\n",
       "      <td>furniture_decor</td>\n",
       "    </tr>\n",
       "  </tbody>\n",
       "</table>\n",
       "</div>"
      ],
      "text/plain": [
       "    product_category_name product_category_name_english\n",
       "0            beleza_saude                 health_beauty\n",
       "1  informatica_acessorios         computers_accessories\n",
       "2              automotivo                          auto\n",
       "3         cama_mesa_banho                bed_bath_table\n",
       "4        moveis_decoracao               furniture_decor"
      ]
     },
     "execution_count": 27,
     "metadata": {},
     "output_type": "execute_result"
    }
   ],
   "source": [
    "english.head()"
   ]
  },
  {
   "cell_type": "code",
   "execution_count": 28,
   "metadata": {},
   "outputs": [],
   "source": [
    "df=pd.merge(df,english,left_on='product_category_name',right_on='product_category_name',how='left')"
   ]
  },
  {
   "cell_type": "code",
   "execution_count": 29,
   "metadata": {},
   "outputs": [],
   "source": [
    "review_score=pd.read_excel('Review.xlsx')"
   ]
  },
  {
   "cell_type": "code",
   "execution_count": 30,
   "metadata": {},
   "outputs": [
    {
     "data": {
      "text/html": [
       "<div>\n",
       "<style scoped>\n",
       "    .dataframe tbody tr th:only-of-type {\n",
       "        vertical-align: middle;\n",
       "    }\n",
       "\n",
       "    .dataframe tbody tr th {\n",
       "        vertical-align: top;\n",
       "    }\n",
       "\n",
       "    .dataframe thead th {\n",
       "        text-align: right;\n",
       "    }\n",
       "</style>\n",
       "<table border=\"1\" class=\"dataframe\">\n",
       "  <thead>\n",
       "    <tr style=\"text-align: right;\">\n",
       "      <th></th>\n",
       "      <th>review_id</th>\n",
       "      <th>order_id</th>\n",
       "      <th>review_score</th>\n",
       "      <th>review_comment_title</th>\n",
       "      <th>review_comment_message</th>\n",
       "      <th>review_creation_date</th>\n",
       "      <th>review_answer_timestamp</th>\n",
       "    </tr>\n",
       "  </thead>\n",
       "  <tbody>\n",
       "    <tr>\n",
       "      <th>0</th>\n",
       "      <td>7bc2406110b926393aa56f80a40eba40</td>\n",
       "      <td>73fc7af87114b39712e6da79b0a377eb</td>\n",
       "      <td>4</td>\n",
       "      <td>NaN</td>\n",
       "      <td>NaN</td>\n",
       "      <td>18-01-2018 00:00</td>\n",
       "      <td>18-01-2018 21:46</td>\n",
       "    </tr>\n",
       "    <tr>\n",
       "      <th>1</th>\n",
       "      <td>80e641a11e56f04c1ad469d5645fdfde</td>\n",
       "      <td>a548910a1c6147796b98fdf73dbeba33</td>\n",
       "      <td>5</td>\n",
       "      <td>NaN</td>\n",
       "      <td>NaN</td>\n",
       "      <td>2018-10-03 00:00:00</td>\n",
       "      <td>2018-11-03 03:05:00</td>\n",
       "    </tr>\n",
       "    <tr>\n",
       "      <th>2</th>\n",
       "      <td>228ce5500dc1d8e020d8d1322874b6f0</td>\n",
       "      <td>f9e4b658b201a9f2ecdecbb34bed034b</td>\n",
       "      <td>5</td>\n",
       "      <td>NaN</td>\n",
       "      <td>NaN</td>\n",
       "      <td>17-02-2018 00:00</td>\n",
       "      <td>18-02-2018 14:36</td>\n",
       "    </tr>\n",
       "    <tr>\n",
       "      <th>3</th>\n",
       "      <td>e64fb393e7b32834bb789ff8bb30750e</td>\n",
       "      <td>658677c97b385a9be170737859d3511b</td>\n",
       "      <td>5</td>\n",
       "      <td>NaN</td>\n",
       "      <td>Received well before the stipulated deadline.</td>\n",
       "      <td>21-04-2017 00:00</td>\n",
       "      <td>21-04-2017 22:02</td>\n",
       "    </tr>\n",
       "    <tr>\n",
       "      <th>4</th>\n",
       "      <td>f7c4243c7fe1938f181bec41a392bdeb</td>\n",
       "      <td>8e6bfb81e283fa7e4f11123a3fb894f1</td>\n",
       "      <td>5</td>\n",
       "      <td>NaN</td>\n",
       "      <td>Congratulations to all happy Easter</td>\n",
       "      <td>2018-01-03 00:00:00</td>\n",
       "      <td>2018-02-03 10:26:00</td>\n",
       "    </tr>\n",
       "  </tbody>\n",
       "</table>\n",
       "</div>"
      ],
      "text/plain": [
       "                          review_id                          order_id  \\\n",
       "0  7bc2406110b926393aa56f80a40eba40  73fc7af87114b39712e6da79b0a377eb   \n",
       "1  80e641a11e56f04c1ad469d5645fdfde  a548910a1c6147796b98fdf73dbeba33   \n",
       "2  228ce5500dc1d8e020d8d1322874b6f0  f9e4b658b201a9f2ecdecbb34bed034b   \n",
       "3  e64fb393e7b32834bb789ff8bb30750e  658677c97b385a9be170737859d3511b   \n",
       "4  f7c4243c7fe1938f181bec41a392bdeb  8e6bfb81e283fa7e4f11123a3fb894f1   \n",
       "\n",
       "   review_score review_comment_title  \\\n",
       "0             4                  NaN   \n",
       "1             5                  NaN   \n",
       "2             5                  NaN   \n",
       "3             5                  NaN   \n",
       "4             5                  NaN   \n",
       "\n",
       "                          review_comment_message review_creation_date  \\\n",
       "0                                            NaN     18-01-2018 00:00   \n",
       "1                                            NaN  2018-10-03 00:00:00   \n",
       "2                                            NaN     17-02-2018 00:00   \n",
       "3  Received well before the stipulated deadline.     21-04-2017 00:00   \n",
       "4            Congratulations to all happy Easter  2018-01-03 00:00:00   \n",
       "\n",
       "  review_answer_timestamp  \n",
       "0        18-01-2018 21:46  \n",
       "1     2018-11-03 03:05:00  \n",
       "2        18-02-2018 14:36  \n",
       "3        21-04-2017 22:02  \n",
       "4     2018-02-03 10:26:00  "
      ]
     },
     "execution_count": 30,
     "metadata": {},
     "output_type": "execute_result"
    }
   ],
   "source": [
    "review_score.head()"
   ]
  },
  {
   "cell_type": "code",
   "execution_count": 31,
   "metadata": {},
   "outputs": [],
   "source": [
    "df=pd.merge(df,review_score,left_on='order_id',right_on='order_id',how='left')"
   ]
  },
  {
   "cell_type": "code",
   "execution_count": 32,
   "metadata": {},
   "outputs": [
    {
     "data": {
      "text/html": [
       "<div>\n",
       "<style scoped>\n",
       "    .dataframe tbody tr th:only-of-type {\n",
       "        vertical-align: middle;\n",
       "    }\n",
       "\n",
       "    .dataframe tbody tr th {\n",
       "        vertical-align: top;\n",
       "    }\n",
       "\n",
       "    .dataframe thead th {\n",
       "        text-align: right;\n",
       "    }\n",
       "</style>\n",
       "<table border=\"1\" class=\"dataframe\">\n",
       "  <thead>\n",
       "    <tr style=\"text-align: right;\">\n",
       "      <th></th>\n",
       "      <th>order_id</th>\n",
       "      <th>product_id</th>\n",
       "      <th>seller_id</th>\n",
       "      <th>shipping_limit_date</th>\n",
       "      <th>order_item_id</th>\n",
       "      <th>price</th>\n",
       "      <th>freight_value</th>\n",
       "      <th>customer_id</th>\n",
       "      <th>order_status</th>\n",
       "      <th>order_purchase_timestamp</th>\n",
       "      <th>...</th>\n",
       "      <th>product_length_cm</th>\n",
       "      <th>product_height_cm</th>\n",
       "      <th>product_width_cm</th>\n",
       "      <th>product_category_name_english</th>\n",
       "      <th>review_id</th>\n",
       "      <th>review_score</th>\n",
       "      <th>review_comment_title</th>\n",
       "      <th>review_comment_message</th>\n",
       "      <th>review_creation_date</th>\n",
       "      <th>review_answer_timestamp</th>\n",
       "    </tr>\n",
       "  </thead>\n",
       "  <tbody>\n",
       "    <tr>\n",
       "      <th>0</th>\n",
       "      <td>00010242fe8c5a6d1ba2dd792cb16214</td>\n",
       "      <td>4244733e06e7ecb4970a6e2683c13e61</td>\n",
       "      <td>48436dade18ac8b2bce089ec2a041202</td>\n",
       "      <td>2017-09-19 09:45:35</td>\n",
       "      <td>1</td>\n",
       "      <td>58.90</td>\n",
       "      <td>13.29</td>\n",
       "      <td>3ce436f183e68e07877b285a838db11a</td>\n",
       "      <td>delivered</td>\n",
       "      <td>2017-09-13 08:59:02</td>\n",
       "      <td>...</td>\n",
       "      <td>28.0</td>\n",
       "      <td>9.0</td>\n",
       "      <td>14.0</td>\n",
       "      <td>cool_stuff</td>\n",
       "      <td>97ca439bc427b48bc1cd7177abe71365</td>\n",
       "      <td>5</td>\n",
       "      <td>NaN</td>\n",
       "      <td>Perfect, product delivered before the combined.</td>\n",
       "      <td>21-09-2017 00:00</td>\n",
       "      <td>22-09-2017 10:57</td>\n",
       "    </tr>\n",
       "    <tr>\n",
       "      <th>1</th>\n",
       "      <td>00018f77f2f0320c557190d7a144bdd3</td>\n",
       "      <td>e5f2d52b802189ee658865ca93d83a8f</td>\n",
       "      <td>dd7ddc04e1b6c2c614352b383efe2d36</td>\n",
       "      <td>2017-05-03 11:05:13</td>\n",
       "      <td>1</td>\n",
       "      <td>239.90</td>\n",
       "      <td>19.93</td>\n",
       "      <td>f6dd3ec061db4e3987629fe6b26e5cce</td>\n",
       "      <td>delivered</td>\n",
       "      <td>2017-04-26 10:53:06</td>\n",
       "      <td>...</td>\n",
       "      <td>50.0</td>\n",
       "      <td>30.0</td>\n",
       "      <td>40.0</td>\n",
       "      <td>pet_shop</td>\n",
       "      <td>7b07bacd811c4117b742569b04ce3580</td>\n",
       "      <td>4</td>\n",
       "      <td>NaN</td>\n",
       "      <td>NaN</td>\n",
       "      <td>13-05-2017 00:00</td>\n",
       "      <td>15-05-2017 11:34</td>\n",
       "    </tr>\n",
       "    <tr>\n",
       "      <th>2</th>\n",
       "      <td>000229ec398224ef6ca0657da4fc703e</td>\n",
       "      <td>c777355d18b72b67abbeef9df44fd0fd</td>\n",
       "      <td>5b51032eddd242adc84c38acab88f23d</td>\n",
       "      <td>2018-01-18 14:48:30</td>\n",
       "      <td>1</td>\n",
       "      <td>199.00</td>\n",
       "      <td>17.87</td>\n",
       "      <td>6489ae5e4333f3693df5ad4372dab6d3</td>\n",
       "      <td>delivered</td>\n",
       "      <td>2018-01-14 14:33:31</td>\n",
       "      <td>...</td>\n",
       "      <td>33.0</td>\n",
       "      <td>13.0</td>\n",
       "      <td>33.0</td>\n",
       "      <td>furniture_decor</td>\n",
       "      <td>0c5b33dea94867d1ac402749e5438e8b</td>\n",
       "      <td>5</td>\n",
       "      <td>NaN</td>\n",
       "      <td>It arrived before the deadline and the product...</td>\n",
       "      <td>23-01-2018 00:00</td>\n",
       "      <td>23-01-2018 16:06</td>\n",
       "    </tr>\n",
       "    <tr>\n",
       "      <th>3</th>\n",
       "      <td>00024acbcdf0a6daa1e931b038114c75</td>\n",
       "      <td>7634da152a4610f1595efa32f14722fc</td>\n",
       "      <td>9d7a1d34a5052409006425275ba1c2b4</td>\n",
       "      <td>2018-08-15 10:10:18</td>\n",
       "      <td>1</td>\n",
       "      <td>12.99</td>\n",
       "      <td>12.79</td>\n",
       "      <td>d4eb9395c8c0431ee92fce09860c5a06</td>\n",
       "      <td>delivered</td>\n",
       "      <td>2018-08-08 10:00:35</td>\n",
       "      <td>...</td>\n",
       "      <td>16.0</td>\n",
       "      <td>10.0</td>\n",
       "      <td>15.0</td>\n",
       "      <td>perfumery</td>\n",
       "      <td>f4028d019cb58564807486a6aaf33817</td>\n",
       "      <td>4</td>\n",
       "      <td>NaN</td>\n",
       "      <td>NaN</td>\n",
       "      <td>15-08-2018 00:00</td>\n",
       "      <td>15-08-2018 16:39</td>\n",
       "    </tr>\n",
       "    <tr>\n",
       "      <th>4</th>\n",
       "      <td>00042b26cf59d7ce69dfabb4e55b4fd9</td>\n",
       "      <td>ac6c3623068f30de03045865e4e10089</td>\n",
       "      <td>df560393f3a51e74553ab94004ba5c87</td>\n",
       "      <td>2017-02-13 13:57:51</td>\n",
       "      <td>1</td>\n",
       "      <td>199.90</td>\n",
       "      <td>18.14</td>\n",
       "      <td>58dbd0b2d70206bf40e62cd34e84d795</td>\n",
       "      <td>delivered</td>\n",
       "      <td>2017-02-04 13:57:51</td>\n",
       "      <td>...</td>\n",
       "      <td>35.0</td>\n",
       "      <td>40.0</td>\n",
       "      <td>30.0</td>\n",
       "      <td>garden_tools</td>\n",
       "      <td>940144190dcba6351888cafa43f3a3a5</td>\n",
       "      <td>5</td>\n",
       "      <td>NaN</td>\n",
       "      <td>I liked it because it came in the given time.</td>\n",
       "      <td>2017-02-03 00:00:00</td>\n",
       "      <td>2017-03-03 10:54:00</td>\n",
       "    </tr>\n",
       "  </tbody>\n",
       "</table>\n",
       "<p>5 rows × 36 columns</p>\n",
       "</div>"
      ],
      "text/plain": [
       "                           order_id                        product_id  \\\n",
       "0  00010242fe8c5a6d1ba2dd792cb16214  4244733e06e7ecb4970a6e2683c13e61   \n",
       "1  00018f77f2f0320c557190d7a144bdd3  e5f2d52b802189ee658865ca93d83a8f   \n",
       "2  000229ec398224ef6ca0657da4fc703e  c777355d18b72b67abbeef9df44fd0fd   \n",
       "3  00024acbcdf0a6daa1e931b038114c75  7634da152a4610f1595efa32f14722fc   \n",
       "4  00042b26cf59d7ce69dfabb4e55b4fd9  ac6c3623068f30de03045865e4e10089   \n",
       "\n",
       "                          seller_id shipping_limit_date  order_item_id  \\\n",
       "0  48436dade18ac8b2bce089ec2a041202 2017-09-19 09:45:35              1   \n",
       "1  dd7ddc04e1b6c2c614352b383efe2d36 2017-05-03 11:05:13              1   \n",
       "2  5b51032eddd242adc84c38acab88f23d 2018-01-18 14:48:30              1   \n",
       "3  9d7a1d34a5052409006425275ba1c2b4 2018-08-15 10:10:18              1   \n",
       "4  df560393f3a51e74553ab94004ba5c87 2017-02-13 13:57:51              1   \n",
       "\n",
       "    price  freight_value                       customer_id order_status  \\\n",
       "0   58.90          13.29  3ce436f183e68e07877b285a838db11a    delivered   \n",
       "1  239.90          19.93  f6dd3ec061db4e3987629fe6b26e5cce    delivered   \n",
       "2  199.00          17.87  6489ae5e4333f3693df5ad4372dab6d3    delivered   \n",
       "3   12.99          12.79  d4eb9395c8c0431ee92fce09860c5a06    delivered   \n",
       "4  199.90          18.14  58dbd0b2d70206bf40e62cd34e84d795    delivered   \n",
       "\n",
       "  order_purchase_timestamp           ...           product_length_cm  \\\n",
       "0      2017-09-13 08:59:02           ...                        28.0   \n",
       "1      2017-04-26 10:53:06           ...                        50.0   \n",
       "2      2018-01-14 14:33:31           ...                        33.0   \n",
       "3      2018-08-08 10:00:35           ...                        16.0   \n",
       "4      2017-02-04 13:57:51           ...                        35.0   \n",
       "\n",
       "  product_height_cm product_width_cm product_category_name_english  \\\n",
       "0               9.0             14.0                    cool_stuff   \n",
       "1              30.0             40.0                      pet_shop   \n",
       "2              13.0             33.0               furniture_decor   \n",
       "3              10.0             15.0                     perfumery   \n",
       "4              40.0             30.0                  garden_tools   \n",
       "\n",
       "                          review_id review_score review_comment_title  \\\n",
       "0  97ca439bc427b48bc1cd7177abe71365            5                  NaN   \n",
       "1  7b07bacd811c4117b742569b04ce3580            4                  NaN   \n",
       "2  0c5b33dea94867d1ac402749e5438e8b            5                  NaN   \n",
       "3  f4028d019cb58564807486a6aaf33817            4                  NaN   \n",
       "4  940144190dcba6351888cafa43f3a3a5            5                  NaN   \n",
       "\n",
       "                              review_comment_message  review_creation_date  \\\n",
       "0    Perfect, product delivered before the combined.      21-09-2017 00:00   \n",
       "1                                                NaN      13-05-2017 00:00   \n",
       "2  It arrived before the deadline and the product...      23-01-2018 00:00   \n",
       "3                                                NaN      15-08-2018 00:00   \n",
       "4      I liked it because it came in the given time.   2017-02-03 00:00:00   \n",
       "\n",
       "  review_answer_timestamp  \n",
       "0        22-09-2017 10:57  \n",
       "1        15-05-2017 11:34  \n",
       "2        23-01-2018 16:06  \n",
       "3        15-08-2018 16:39  \n",
       "4     2017-03-03 10:54:00  \n",
       "\n",
       "[5 rows x 36 columns]"
      ]
     },
     "execution_count": 32,
     "metadata": {},
     "output_type": "execute_result"
    }
   ],
   "source": [
    "df.head()"
   ]
  },
  {
   "cell_type": "code",
   "execution_count": 33,
   "metadata": {},
   "outputs": [],
   "source": [
    "geo=pd.read_csv('olist_geolocation_dataset.csv')"
   ]
  },
  {
   "cell_type": "code",
   "execution_count": 34,
   "metadata": {},
   "outputs": [
    {
     "data": {
      "text/html": [
       "<div>\n",
       "<style scoped>\n",
       "    .dataframe tbody tr th:only-of-type {\n",
       "        vertical-align: middle;\n",
       "    }\n",
       "\n",
       "    .dataframe tbody tr th {\n",
       "        vertical-align: top;\n",
       "    }\n",
       "\n",
       "    .dataframe thead th {\n",
       "        text-align: right;\n",
       "    }\n",
       "</style>\n",
       "<table border=\"1\" class=\"dataframe\">\n",
       "  <thead>\n",
       "    <tr style=\"text-align: right;\">\n",
       "      <th></th>\n",
       "      <th>geolocation_zip_code_prefix</th>\n",
       "      <th>geolocation_lat</th>\n",
       "      <th>geolocation_lng</th>\n",
       "      <th>geolocation_city</th>\n",
       "      <th>geolocation_state</th>\n",
       "    </tr>\n",
       "  </thead>\n",
       "  <tbody>\n",
       "    <tr>\n",
       "      <th>0</th>\n",
       "      <td>1037</td>\n",
       "      <td>-23.545621</td>\n",
       "      <td>-46.639292</td>\n",
       "      <td>sao paulo</td>\n",
       "      <td>SP</td>\n",
       "    </tr>\n",
       "    <tr>\n",
       "      <th>1</th>\n",
       "      <td>1046</td>\n",
       "      <td>-23.546081</td>\n",
       "      <td>-46.644820</td>\n",
       "      <td>sao paulo</td>\n",
       "      <td>SP</td>\n",
       "    </tr>\n",
       "    <tr>\n",
       "      <th>2</th>\n",
       "      <td>1046</td>\n",
       "      <td>-23.546129</td>\n",
       "      <td>-46.642951</td>\n",
       "      <td>sao paulo</td>\n",
       "      <td>SP</td>\n",
       "    </tr>\n",
       "    <tr>\n",
       "      <th>3</th>\n",
       "      <td>1041</td>\n",
       "      <td>-23.544392</td>\n",
       "      <td>-46.639499</td>\n",
       "      <td>sao paulo</td>\n",
       "      <td>SP</td>\n",
       "    </tr>\n",
       "    <tr>\n",
       "      <th>4</th>\n",
       "      <td>1035</td>\n",
       "      <td>-23.541578</td>\n",
       "      <td>-46.641607</td>\n",
       "      <td>sao paulo</td>\n",
       "      <td>SP</td>\n",
       "    </tr>\n",
       "  </tbody>\n",
       "</table>\n",
       "</div>"
      ],
      "text/plain": [
       "   geolocation_zip_code_prefix  geolocation_lat  geolocation_lng  \\\n",
       "0                         1037       -23.545621       -46.639292   \n",
       "1                         1046       -23.546081       -46.644820   \n",
       "2                         1046       -23.546129       -46.642951   \n",
       "3                         1041       -23.544392       -46.639499   \n",
       "4                         1035       -23.541578       -46.641607   \n",
       "\n",
       "  geolocation_city geolocation_state  \n",
       "0        sao paulo                SP  \n",
       "1        sao paulo                SP  \n",
       "2        sao paulo                SP  \n",
       "3        sao paulo                SP  \n",
       "4        sao paulo                SP  "
      ]
     },
     "execution_count": 34,
     "metadata": {},
     "output_type": "execute_result"
    }
   ],
   "source": [
    "geo.head()"
   ]
  },
  {
   "cell_type": "code",
   "execution_count": 35,
   "metadata": {},
   "outputs": [],
   "source": [
    "seller_coordinates = geo.groupby('geolocation_state').agg({'geolocation_lat' : 'mean','geolocation_lng' : 'mean'}).reset_index()"
   ]
  },
  {
   "cell_type": "code",
   "execution_count": 36,
   "metadata": {},
   "outputs": [],
   "source": [
    "Customer_coordinates = geo.groupby('geolocation_zip_code_prefix').agg({'geolocation_lat' : 'mean','geolocation_lng' : 'mean'}).reset_index()"
   ]
  },
  {
   "cell_type": "code",
   "execution_count": 37,
   "metadata": {},
   "outputs": [],
   "source": [
    "df=pd.merge(df,seller_coordinates, left_on ='customer_state',right_on = 'geolocation_state', how = 'left' )"
   ]
  },
  {
   "cell_type": "code",
   "execution_count": 38,
   "metadata": {},
   "outputs": [],
   "source": [
    "df=pd.merge(df,Customer_coordinates, left_on ='customer_zip_code_prefix', right_on = 'geolocation_zip_code_prefix', how = 'left' )"
   ]
  },
  {
   "cell_type": "code",
   "execution_count": 39,
   "metadata": {},
   "outputs": [],
   "source": [
    "df['date'] = df['order_purchase_timestamp'].dt.date"
   ]
  },
  {
   "cell_type": "code",
   "execution_count": 40,
   "metadata": {
    "scrolled": true
   },
   "outputs": [
    {
     "name": "stdout",
     "output_type": "stream",
     "text": [
      "<class 'pandas.core.frame.DataFrame'>\n",
      "Int64Index: 103035 entries, 0 to 103034\n",
      "Data columns (total 43 columns):\n",
      "order_id                         103035 non-null object\n",
      "product_id                       103035 non-null object\n",
      "seller_id                        103035 non-null object\n",
      "shipping_limit_date              103035 non-null datetime64[ns]\n",
      "order_item_id                    103035 non-null int64\n",
      "price                            103035 non-null float64\n",
      "freight_value                    103035 non-null float64\n",
      "customer_id                      103035 non-null object\n",
      "order_status                     103035 non-null object\n",
      "order_purchase_timestamp         103035 non-null datetime64[ns]\n",
      "order_approved_at                103021 non-null datetime64[ns]\n",
      "order_delivered_carrier_date     101998 non-null object\n",
      "order_delivered_customer_date    100784 non-null datetime64[ns]\n",
      "order_estimated_delivery_date    103035 non-null datetime64[ns]\n",
      "seller_zip_code_prefix           103035 non-null int64\n",
      "seller_city                      103035 non-null object\n",
      "seller_state                     103035 non-null object\n",
      "customer_unique_id               103035 non-null object\n",
      "customer_zip_code_prefix         103035 non-null int64\n",
      "customer_city                    103035 non-null object\n",
      "customer_state                   103035 non-null object\n",
      "product_category_name            101566 non-null object\n",
      "product_name_lenght              101566 non-null float64\n",
      "product_description_lenght       101566 non-null float64\n",
      "product_photos_qty               101566 non-null float64\n",
      "product_weight_g                 103019 non-null float64\n",
      "product_length_cm                103019 non-null float64\n",
      "product_height_cm                103019 non-null float64\n",
      "product_width_cm                 103019 non-null float64\n",
      "product_category_name_english    101544 non-null object\n",
      "review_id                        103035 non-null object\n",
      "review_score                     103035 non-null int64\n",
      "review_comment_title             12209 non-null object\n",
      "review_comment_message           43332 non-null object\n",
      "review_creation_date             103035 non-null object\n",
      "review_answer_timestamp          103035 non-null object\n",
      "geolocation_state                103035 non-null object\n",
      "geolocation_lat_x                103035 non-null float64\n",
      "geolocation_lng_x                103035 non-null float64\n",
      "geolocation_zip_code_prefix      102748 non-null float64\n",
      "geolocation_lat_y                102748 non-null float64\n",
      "geolocation_lng_y                102748 non-null float64\n",
      "date                             103035 non-null object\n",
      "dtypes: datetime64[ns](5), float64(14), int64(4), object(20)\n",
      "memory usage: 34.6+ MB\n"
     ]
    }
   ],
   "source": [
    "df.info()"
   ]
  },
  {
   "cell_type": "markdown",
   "metadata": {},
   "source": [
    "## EDA"
   ]
  },
  {
   "cell_type": "code",
   "execution_count": 41,
   "metadata": {
    "scrolled": false
   },
   "outputs": [
    {
     "data": {
      "text/plain": [
       "<matplotlib.axes._subplots.AxesSubplot at 0x18d3f643c50>"
      ]
     },
     "execution_count": 41,
     "metadata": {},
     "output_type": "execute_result"
    },
    {
     "data": {
      "image/png": "[encoded data removed]",
      "text/plain": [
       "<Figure size 1080x360 with 1 Axes>"
      ]
     },
     "metadata": {},
     "output_type": "display_data"
    }
   ],
   "source": [
    "fig = plt.figure(figsize=[15,5])\n",
    "df.groupby('product_category_name_english').order_id.count().sort_values().plot(kind='bar')"
   ]
  },
  {
   "cell_type": "code",
   "execution_count": 42,
   "metadata": {
    "scrolled": false
   },
   "outputs": [
    {
     "data": {
      "text/plain": [
       "<matplotlib.axes._subplots.AxesSubplot at 0x18d45e15b00>"
      ]
     },
     "execution_count": 42,
     "metadata": {},
     "output_type": "execute_result"
    },
    {
     "data": {
      "image/png": "[encoded data removed]",
      "text/plain": [
       "<Figure size 1080x360 with 1 Axes>"
      ]
     },
     "metadata": {},
     "output_type": "display_data"
    }
   ],
   "source": [
    "fig = plt.figure(figsize=[15,5])\n",
    "df.groupby('product_category_name_english').review_score.mean().sort_values().plot(kind='bar')"
   ]
  },
  {
   "cell_type": "code",
   "execution_count": 43,
   "metadata": {},
   "outputs": [
    {
     "data": {
      "text/plain": [
       "count    103035.000000\n",
       "mean        132.510167\n",
       "std         204.908691\n",
       "min           0.850000\n",
       "25%          44.900000\n",
       "50%          80.490000\n",
       "75%         147.000000\n",
       "max       13440.000000\n",
       "Name: price, dtype: float64"
      ]
     },
     "execution_count": 43,
     "metadata": {},
     "output_type": "execute_result"
    }
   ],
   "source": [
    "df['price'].describe()"
   ]
  },
  {
   "cell_type": "code",
   "execution_count": 44,
   "metadata": {},
   "outputs": [
    {
     "data": {
      "text/html": [
       "<div>\n",
       "<style scoped>\n",
       "    .dataframe tbody tr th:only-of-type {\n",
       "        vertical-align: middle;\n",
       "    }\n",
       "\n",
       "    .dataframe tbody tr th {\n",
       "        vertical-align: top;\n",
       "    }\n",
       "\n",
       "    .dataframe thead th {\n",
       "        text-align: right;\n",
       "    }\n",
       "</style>\n",
       "<table border=\"1\" class=\"dataframe\">\n",
       "  <thead>\n",
       "    <tr style=\"text-align: right;\">\n",
       "      <th></th>\n",
       "      <th>order_id</th>\n",
       "      <th>product_id</th>\n",
       "      <th>seller_id</th>\n",
       "      <th>shipping_limit_date</th>\n",
       "      <th>order_item_id</th>\n",
       "      <th>price</th>\n",
       "      <th>freight_value</th>\n",
       "      <th>customer_id</th>\n",
       "      <th>order_status</th>\n",
       "      <th>order_purchase_timestamp</th>\n",
       "      <th>...</th>\n",
       "      <th>review_comment_message</th>\n",
       "      <th>review_creation_date</th>\n",
       "      <th>review_answer_timestamp</th>\n",
       "      <th>geolocation_state</th>\n",
       "      <th>geolocation_lat_x</th>\n",
       "      <th>geolocation_lng_x</th>\n",
       "      <th>geolocation_zip_code_prefix</th>\n",
       "      <th>geolocation_lat_y</th>\n",
       "      <th>geolocation_lng_y</th>\n",
       "      <th>date</th>\n",
       "    </tr>\n",
       "  </thead>\n",
       "  <tbody>\n",
       "    <tr>\n",
       "      <th>1512</th>\n",
       "      <td>03caa2c082116e1d31e67e9ae3700499</td>\n",
       "      <td>5769ef0a239114ac3a854af00df129e4</td>\n",
       "      <td>b37c4c02bda3161a7546a4e6d222d5b2</td>\n",
       "      <td>2017-10-06 15:28:20</td>\n",
       "      <td>8</td>\n",
       "      <td>13440.0</td>\n",
       "      <td>28.01</td>\n",
       "      <td>1617b1357756262bfa56ab541c47bc16</td>\n",
       "      <td>delivered</td>\n",
       "      <td>2017-09-29 15:24:52</td>\n",
       "      <td>...</td>\n",
       "      <td>Please check the delivery of the order as we d...</td>\n",
       "      <td>18-10-2017 00:00</td>\n",
       "      <td>19-10-2017 13:10</td>\n",
       "      <td>RJ</td>\n",
       "      <td>-22.743477</td>\n",
       "      <td>-43.15554</td>\n",
       "      <td>20080.0</td>\n",
       "      <td>-22.901209</td>\n",
       "      <td>-43.184957</td>\n",
       "      <td>2017-09-29</td>\n",
       "    </tr>\n",
       "  </tbody>\n",
       "</table>\n",
       "<p>1 rows × 43 columns</p>\n",
       "</div>"
      ],
      "text/plain": [
       "                              order_id                        product_id  \\\n",
       "1512  03caa2c082116e1d31e67e9ae3700499  5769ef0a239114ac3a854af00df129e4   \n",
       "\n",
       "                             seller_id shipping_limit_date  order_item_id  \\\n",
       "1512  b37c4c02bda3161a7546a4e6d222d5b2 2017-10-06 15:28:20              8   \n",
       "\n",
       "        price  freight_value                       customer_id order_status  \\\n",
       "1512  13440.0          28.01  1617b1357756262bfa56ab541c47bc16    delivered   \n",
       "\n",
       "     order_purchase_timestamp     ...      \\\n",
       "1512      2017-09-29 15:24:52     ...       \n",
       "\n",
       "                                 review_comment_message review_creation_date  \\\n",
       "1512  Please check the delivery of the order as we d...     18-10-2017 00:00   \n",
       "\n",
       "     review_answer_timestamp geolocation_state  geolocation_lat_x  \\\n",
       "1512        19-10-2017 13:10                RJ         -22.743477   \n",
       "\n",
       "     geolocation_lng_x geolocation_zip_code_prefix geolocation_lat_y  \\\n",
       "1512         -43.15554                     20080.0        -22.901209   \n",
       "\n",
       "      geolocation_lng_y        date  \n",
       "1512         -43.184957  2017-09-29  \n",
       "\n",
       "[1 rows x 43 columns]"
      ]
     },
     "execution_count": 44,
     "metadata": {},
     "output_type": "execute_result"
    }
   ],
   "source": [
    "df[df['price']>13000]"
   ]
  },
  {
   "cell_type": "code",
   "execution_count": 45,
   "metadata": {},
   "outputs": [
    {
     "data": {
      "image/png": "[encoded data removed]",
      "text/plain": [
       "<Figure size 432x288 with 1 Axes>"
      ]
     },
     "metadata": {},
     "output_type": "display_data"
    }
   ],
   "source": [
    "fig = plt.figure()\n",
    "ax = fig.add_subplot(1,1,1)\n",
    "ax.scatter(df['price'],df['freight_value'])\n",
    "plt.show()"
   ]
  },
  {
   "cell_type": "code",
   "execution_count": 46,
   "metadata": {},
   "outputs": [],
   "source": [
    "df['Sales']=df['price']+df['freight_value']"
   ]
  },
  {
   "cell_type": "code",
   "execution_count": 47,
   "metadata": {},
   "outputs": [],
   "source": [
    "df['freigt_ratio'] = df['price']  / df['freight_value'] "
   ]
  },
  {
   "cell_type": "code",
   "execution_count": 48,
   "metadata": {},
   "outputs": [],
   "source": [
    "def getDistance(lat_a, lng_a, lat_b, lng_b):\n",
    "    Earth_Radius = 6373.0\n",
    "    \n",
    "    lat1 = np.radians(lat_a)\n",
    "    lon1 = np.radians(lng_a)\n",
    "    lat2 = np.radians(lat_b)\n",
    "    lon2 = np.radians(lng_b)\n",
    "    \n",
    "    dlon = lon2 - lon1\n",
    "    dlat = lat2 - lat1\n",
    "    \n",
    "    a = np.sin(dlat / 2)**2 + np.cos(lat1) * np.cos(lat2) * np.sin(dlon / 2)**2\n",
    "    c = 2 * np.tanh(np.sqrt(a)/np.sqrt(1 - a))\n",
    "    distance = Earth_Radius * c\n",
    "    return distance"
   ]
  },
  {
   "cell_type": "code",
   "execution_count": 49,
   "metadata": {},
   "outputs": [],
   "source": [
    "df['Distance']= getDistance(df['geolocation_lat_x'],df['geolocation_lng_x'],df['geolocation_lat_y'],df['geolocation_lat_y'])"
   ]
  },
  {
   "cell_type": "code",
   "execution_count": 50,
   "metadata": {},
   "outputs": [],
   "source": [
    "df['MonYear']=df['shipping_limit_date'].dt.to_period('M')"
   ]
  },
  {
   "cell_type": "code",
   "execution_count": 51,
   "metadata": {},
   "outputs": [
    {
     "data": {
      "text/plain": [
       "<matplotlib.axes._subplots.AxesSubplot at 0x18d45e3da20>"
      ]
     },
     "execution_count": 51,
     "metadata": {},
     "output_type": "execute_result"
    },
    {
     "data": {
      "image/png": "[encoded data removed]",
      "text/plain": [
       "<Figure size 432x288 with 1 Axes>"
      ]
     },
     "metadata": {},
     "output_type": "display_data"
    }
   ],
   "source": [
    "df.groupby('date').Sales.sum().plot(kind='line')"
   ]
  },
  {
   "cell_type": "code",
   "execution_count": 52,
   "metadata": {},
   "outputs": [],
   "source": [
    "df['DeliveryDays']=(df['order_delivered_customer_date'] - df['order_purchase_timestamp']).dt.days"
   ]
  },
  {
   "cell_type": "code",
   "execution_count": 53,
   "metadata": {},
   "outputs": [],
   "source": [
    "df['EstimatedDays']=(df['order_estimated_delivery_date'] - df['order_purchase_timestamp']).dt.days "
   ]
  },
  {
   "cell_type": "code",
   "execution_count": 54,
   "metadata": {},
   "outputs": [],
   "source": [
    "df['IsLate']= np.where(df['DeliveryDays'] > df['EstimatedDays'], 1, 0)"
   ]
  },
  {
   "cell_type": "code",
   "execution_count": 55,
   "metadata": {},
   "outputs": [],
   "source": [
    "df['Variance'] = df['EstimatedDays'] - df['DeliveryDays']"
   ]
  },
  {
   "cell_type": "code",
   "execution_count": 56,
   "metadata": {},
   "outputs": [
    {
     "data": {
      "text/plain": [
       "<matplotlib.collections.PathCollection at 0x18d44689780>"
      ]
     },
     "execution_count": 56,
     "metadata": {},
     "output_type": "execute_result"
    },
    {
     "data": {
      "image/png": "[encoded data removed]",
      "text/plain": [
       "<Figure size 432x288 with 1 Axes>"
      ]
     },
     "metadata": {},
     "output_type": "display_data"
    }
   ],
   "source": [
    "fig=plt.figure()\n",
    "ax=fig.add_subplot(111)\n",
    "ax.scatter(x=df['Distance'] , y= df['EstimatedDays'])"
   ]
  },
  {
   "cell_type": "code",
   "execution_count": 57,
   "metadata": {},
   "outputs": [
    {
     "data": {
      "text/plain": [
       "<matplotlib.collections.PathCollection at 0x18d441c12e8>"
      ]
     },
     "execution_count": 57,
     "metadata": {},
     "output_type": "execute_result"
    },
    {
     "data": {
      "image/png": "[encoded data removed]",
      "text/plain": [
       "<Figure size 432x288 with 1 Axes>"
      ]
     },
     "metadata": {},
     "output_type": "display_data"
    }
   ],
   "source": [
    "fig = plt.figure()\n",
    "ax = fig.add_subplot(1,1,1)\n",
    "ax.scatter(df['DeliveryDays'],df['EstimatedDays'])"
   ]
  },
  {
   "cell_type": "code",
   "execution_count": 58,
   "metadata": {},
   "outputs": [
    {
     "data": {
      "text/plain": [
       "<matplotlib.axes._subplots.AxesSubplot at 0x18d4353c550>"
      ]
     },
     "execution_count": 58,
     "metadata": {},
     "output_type": "execute_result"
    },
    {
     "data": {
      "image/png": "[encoded data removed]",
      "text/plain": [
       "<Figure size 432x288 with 1 Axes>"
      ]
     },
     "metadata": {},
     "output_type": "display_data"
    }
   ],
   "source": [
    "df['review_score'].hist(bins=5)"
   ]
  },
  {
   "cell_type": "code",
   "execution_count": 59,
   "metadata": {},
   "outputs": [
    {
     "data": {
      "text/plain": [
       "<matplotlib.axes._subplots.AxesSubplot at 0x18d4346c2b0>"
      ]
     },
     "execution_count": 59,
     "metadata": {},
     "output_type": "execute_result"
    },
    {
     "data": {
      "image/png": "[encoded data removed]",
      "text/plain": [
       "<Figure size 1080x360 with 2 Axes>"
      ]
     },
     "metadata": {},
     "output_type": "display_data"
    }
   ],
   "source": [
    "fig = plt.figure(figsize=[15,5]) \n",
    "ax = fig.add_subplot(111) \n",
    "ax2 = ax.twinx()\n",
    "df.groupby('MonYear').DeliveryDays.mean().plot(kind='line', ax=ax)\n",
    "df.groupby('MonYear').review_score.mean().plot(kind='line', color='red', ax=ax2)"
   ]
  },
  {
   "cell_type": "code",
   "execution_count": 60,
   "metadata": {},
   "outputs": [
    {
     "data": {
      "image/png": "[encoded data removed]",
      "text/plain": [
       "<Figure size 1080x360 with 1 Axes>"
      ]
     },
     "metadata": {},
     "output_type": "display_data"
    }
   ],
   "source": [
    "fig = plt.figure(figsize=[15,5]) \n",
    "ax = fig.add_subplot(111) \n",
    "var = df[(df['review_score']==1)].groupby('Variance').order_id.count().plot(kind='line') \n",
    "var1 = df[(df['review_score']==5)].groupby('Variance').order_id.count().plot(kind='line') "
   ]
  },
  {
   "cell_type": "code",
   "execution_count": 61,
   "metadata": {},
   "outputs": [
    {
     "data": {
      "text/plain": [
       "<matplotlib.axes._subplots.AxesSubplot at 0x18d3fdd4160>"
      ]
     },
     "execution_count": 61,
     "metadata": {},
     "output_type": "execute_result"
    },
    {
     "data": {
      "image/png": "[encoded data removed]",
      "text/plain": [
       "<Figure size 432x288 with 1 Axes>"
      ]
     },
     "metadata": {},
     "output_type": "display_data"
    }
   ],
   "source": [
    "df[df.DeliveryDays < 60].boxplot( column=\"DeliveryDays\" , by=\"review_score\")"
   ]
  },
  {
   "cell_type": "code",
   "execution_count": 62,
   "metadata": {},
   "outputs": [
    {
     "data": {
      "text/plain": [
       "<matplotlib.axes._subplots.AxesSubplot at 0x18d3fdee6d8>"
      ]
     },
     "execution_count": 62,
     "metadata": {},
     "output_type": "execute_result"
    },
    {
     "data": {
      "image/png": "[encoded data removed]",
      "text/plain": [
       "<Figure size 1080x360 with 2 Axes>"
      ]
     },
     "metadata": {},
     "output_type": "display_data"
    }
   ],
   "source": [
    "fig = plt.figure(figsize=[15,5]) \n",
    "ax = fig.add_subplot(111) \n",
    "ax2 = ax.twinx()\n",
    "df.groupby('customer_state').DeliveryDays.mean().plot(kind='bar', color = 'blue', ax=ax, position = 1)\n",
    "df.groupby('customer_state').seller_id.nunique().plot(kind='bar', color = 'red', ax=ax2, position = 0)"
   ]
  },
  {
   "cell_type": "code",
   "execution_count": 63,
   "metadata": {},
   "outputs": [
    {
     "data": {
      "text/plain": [
       "<matplotlib.axes._subplots.AxesSubplot at 0x18d43f83898>"
      ]
     },
     "execution_count": 63,
     "metadata": {},
     "output_type": "execute_result"
    },
    {
     "data": {
      "image/png": "[encoded data removed]",
      "text/plain": [
       "<Figure size 1080x360 with 2 Axes>"
      ]
     },
     "metadata": {},
     "output_type": "display_data"
    }
   ],
   "source": [
    "fig = plt.figure(figsize=[15,5]) \n",
    "ax = fig.add_subplot(111) \n",
    "ax2 = ax.twinx()\n",
    "df.groupby('customer_state').seller_id.nunique().plot(kind='bar', color = 'blue', ax=ax, position = 1)\n",
    "df.groupby('customer_state').customer_unique_id.nunique().plot(kind='bar', color='red', ax=ax2, position = 0)"
   ]
  },
  {
   "cell_type": "code",
   "execution_count": 64,
   "metadata": {},
   "outputs": [],
   "source": [
    "df['WeekOfDay']=df['shipping_limit_date'].dt.dayofweek\n",
    "df['hour']=df['shipping_limit_date'].dt.hour"
   ]
  },
  {
   "cell_type": "code",
   "execution_count": 65,
   "metadata": {},
   "outputs": [],
   "source": [
    "dfHP=df.groupby(['WeekOfDay','hour']).order_id.nunique().unstack().reset_index()"
   ]
  },
  {
   "cell_type": "code",
   "execution_count": 66,
   "metadata": {},
   "outputs": [
    {
     "data": {
      "text/plain": [
       "<matplotlib.axes._subplots.AxesSubplot at 0x18d44ccf0f0>"
      ]
     },
     "execution_count": 66,
     "metadata": {},
     "output_type": "execute_result"
    },
    {
     "data": {
      "image/png": "[encoded data removed]",
      "text/plain": [
       "<Figure size 1080x360 with 2 Axes>"
      ]
     },
     "metadata": {},
     "output_type": "display_data"
    }
   ],
   "source": [
    "fig = plt.figure(figsize=[15,5])\n",
    "sns.heatmap(dfHP,cmap=\"YlGnBu\")"
   ]
  },
  {
   "cell_type": "code",
   "execution_count": 67,
   "metadata": {},
   "outputs": [
    {
     "data": {
      "text/plain": [
       "<matplotlib.axes._subplots.AxesSubplot at 0x18d45034240>"
      ]
     },
     "execution_count": 67,
     "metadata": {},
     "output_type": "execute_result"
    },
    {
     "data": {
      "image/png": "[encoded data removed]",
      "text/plain": [
       "<Figure size 432x288 with 1 Axes>"
      ]
     },
     "metadata": {},
     "output_type": "display_data"
    }
   ],
   "source": [
    "df.groupby('hour').order_id.nunique().plot(kind='line')"
   ]
  },
  {
   "cell_type": "markdown",
   "metadata": {},
   "source": [
    "## RFM Dataset For Customer Segmentation"
   ]
  },
  {
   "cell_type": "code",
   "execution_count": 68,
   "metadata": {},
   "outputs": [],
   "source": [
    "RFM=df.groupby('customer_unique_id').agg({'Sales' : 'sum', \n",
    "                                          'order_item_id' : 'sum' , \n",
    "                                          'order_purchase_timestamp' : 'max',\n",
    "                                          'EstimatedDays' : 'mean' }).reset_index()"
   ]
  },
  {
   "cell_type": "code",
   "execution_count": 69,
   "metadata": {},
   "outputs": [],
   "source": [
    "RFM['rec'] = (max(RFM['order_purchase_timestamp'])-RFM['order_purchase_timestamp']).dt.days"
   ]
  },
  {
   "cell_type": "code",
   "execution_count": 70,
   "metadata": {},
   "outputs": [
    {
     "name": "stdout",
     "output_type": "stream",
     "text": [
      "<class 'pandas.core.frame.DataFrame'>\n",
      "RangeIndex: 95420 entries, 0 to 95419\n",
      "Data columns (total 6 columns):\n",
      "customer_unique_id          95420 non-null object\n",
      "Sales                       95420 non-null float64\n",
      "order_item_id               95420 non-null int64\n",
      "order_purchase_timestamp    95420 non-null datetime64[ns]\n",
      "EstimatedDays               95420 non-null float64\n",
      "rec                         95420 non-null int64\n",
      "dtypes: datetime64[ns](1), float64(2), int64(2), object(1)\n",
      "memory usage: 4.4+ MB\n"
     ]
    }
   ],
   "source": [
    "RFM.info()"
   ]
  },
  {
   "cell_type": "code",
   "execution_count": 71,
   "metadata": {},
   "outputs": [],
   "source": [
    "Features=['Sales','rec', 'EstimatedDays']"
   ]
  },
  {
   "cell_type": "code",
   "execution_count": 72,
   "metadata": {},
   "outputs": [],
   "source": [
    "dfRFM=RFM[Features]"
   ]
  },
  {
   "cell_type": "code",
   "execution_count": 73,
   "metadata": {},
   "outputs": [],
   "source": [
    "scaler = preprocessing.StandardScaler()\n",
    "scaled_df = scaler.fit_transform(dfRFM)"
   ]
  },
  {
   "cell_type": "code",
   "execution_count": 74,
   "metadata": {},
   "outputs": [],
   "source": [
    "dfScaled = pd.DataFrame(scaled_df)"
   ]
  },
  {
   "cell_type": "code",
   "execution_count": 75,
   "metadata": {},
   "outputs": [
    {
     "data": {
      "image/png": "[encoded data removed]",
      "text/plain": [
       "<Figure size 432x288 with 1 Axes>"
      ]
     },
     "metadata": {},
     "output_type": "display_data"
    }
   ],
   "source": [
    "score = []\n",
    "\n",
    "for i in range(1, 11):\n",
    "    kmeans = KMeans(n_clusters = i, init = 'random')\n",
    "    kmeans.fit(dfScaled)\n",
    "    score.append(kmeans.inertia_)  \n",
    "    \n",
    "plt.plot(range(1, 11), score)\n",
    "plt.show()"
   ]
  },
  {
   "cell_type": "code",
   "execution_count": 76,
   "metadata": {},
   "outputs": [],
   "source": [
    "kmeans  = KMeans(n_clusters = 4, random_state= 123)\n",
    "kmeans.fit(dfScaled)\n",
    "dfScaled['Predict']=kmeans.predict(dfScaled)"
   ]
  },
  {
   "cell_type": "code",
   "execution_count": 77,
   "metadata": {
    "scrolled": false
   },
   "outputs": [
    {
     "data": {
      "text/plain": [
       "<seaborn.axisgrid.PairGrid at 0x18d45d0b7b8>"
      ]
     },
     "execution_count": 77,
     "metadata": {},
     "output_type": "execute_result"
    },
    {
     "data": {
      "image/png": "[encoded data removed]",
      "text/plain": [
       "<Figure size 761.625x720 with 20 Axes>"
      ]
     },
     "metadata": {},
     "output_type": "display_data"
    }
   ],
   "source": [
    "sns.set(style=\"ticks\")\n",
    "sns.pairplot(dfScaled, hue= 'Predict')"
   ]
  }
 ],
 "metadata": {
  "kernelspec": {
   "display_name": "Python 3",
   "language": "python",
   "name": "python3"
  },
  "language_info": {
   "codemirror_mode": {
    "name": "ipython",
    "version": 3
   },
   "file_extension": ".py",
   "mimetype": "text/x-python",
   "name": "python",
   "nbconvert_exporter": "python",
   "pygments_lexer": "ipython3",
   "version": "3.6.5"
  }
 },
 "nbformat": 4,
 "nbformat_minor": 2
}
